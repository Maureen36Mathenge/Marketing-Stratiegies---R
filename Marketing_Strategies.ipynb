{
  "nbformat": 4,
  "nbformat_minor": 0,
  "metadata": {
    "colab": {
      "name": "Marketing Strategies ",
      "provenance": [],
      "collapsed_sections": [],
      "toc_visible": true,
      "authorship_tag": "ABX9TyM6j7mU0/EJ04aMPSbwsBRo",
      "include_colab_link": true
    },
    "kernelspec": {
      "name": "ir",
      "display_name": "R"
    }
  },
  "cells": [
    {
      "cell_type": "markdown",
      "metadata": {
        "id": "view-in-github",
        "colab_type": "text"
      },
      "source": [
        "<a href=\"https://colab.research.google.com/github/Maureen36Mathenge/Marketing-Stratiegies---R/blob/master/Marketing_Strategies.ipynb\" target=\"_parent\"><img src=\"https://colab.research.google.com/assets/colab-badge.svg\" alt=\"Open In Colab\"/></a>"
      ]
    },
    {
      "cell_type": "markdown",
      "metadata": {
        "id": "mvZP1OTIVk9B",
        "colab_type": "text"
      },
      "source": [
        "# Define the Question\n",
        "\n",
        "## Specify the Question\n",
        "\n",
        "You are a Data analyst at Carrefour Kenya and are currently undertaking a project that will inform the marketing department on the most relevant marketing strategies that will result in the highest no. of sales (total price including tax). Your project has been divided into three parts where you'll explore a recent marketing dataset by performing various unsupervised learning techniques and later providing recommendations based on your insights.\n",
        "\n",
        "## Deliverables/Objectives\n",
        "\n",
        "Part 1: Dimensionality Reduction\n",
        "\n",
        "This section of the project entails reducing your dataset to a low dimensional dataset using the t-SNE algorithm or PCA. You will be required to perform your analysis and provide insights gained from your analysis.\n",
        "\n",
        "Part 2: Feature Selection\n",
        "\n",
        "This section requires you to perform feature selection through the use of the unsupervised learning methods learned earlier this week. You will be required to perform your analysis and provide insights on the features that contribute the most information to the dataset.\n",
        "\n",
        "Part 3: Association Rules\n",
        "\n",
        "This section will require that you create association rules that will allow you to identify relationships between variables in the dataset. You are provided with a separate dataset that comprises groups of items that will be associated with others. Just like in the other sections, you will also be required to provide insights for your analysis.\n",
        "\n",
        "Part 4: Anomaly Detection\n",
        "\n",
        "You have also been requested to check whether there are any anomalies in the given sales dataset. The objective of this task being fraud detection.\n",
        "\n",
        "\n",
        "## Metrics\n",
        "\n",
        "Increase the sales / Generate more profits\n",
        "\n",
        "## Context\n",
        "\n",
        "\n",
        "\n",
        "## Experimental Design\n",
        "\n",
        "CRISP- DM methodology will be applied. Below steps will be undertaken to create the classifer.\n",
        "\n",
        "\n",
        "\n",
        "*  Business understanding - understanding the background\n",
        "\n",
        "*  Data understanding\n",
        "\n",
        "* Exploratory data analysis\n",
        "\n",
        "* Feature engineering\n",
        "\n",
        "* Data modelling\n",
        "\n",
        "* Model interpretation\n",
        "\n",
        "\n",
        "\n",
        "\n",
        "\n"
      ]
    },
    {
      "cell_type": "markdown",
      "metadata": {
        "id": "w2C-0OT3Ldsv",
        "colab_type": "text"
      },
      "source": [
        "# Install and read the libraries"
      ]
    },
    {
      "cell_type": "code",
      "metadata": {
        "id": "Y4S8z233FU8P",
        "colab_type": "code",
        "colab": {
          "base_uri": "https://localhost:8080/",
          "height": 68
        },
        "outputId": "cfff3243-ddd2-46af-8766-cb440d974cdb"
      },
      "source": [
        "#INSTALL LIBRARIES\n",
        "#install.packages('dplyr')\n",
        "library(dplyr)\n",
        "library(tidyr)\n",
        "install.packages('lubridate')\n",
        "library(lubridate)"
      ],
      "execution_count": 166,
      "outputs": [
        {
          "output_type": "stream",
          "text": [
            "Installing package into ‘/usr/local/lib/R/site-library’\n",
            "(as ‘lib’ is unspecified)\n",
            "\n"
          ],
          "name": "stderr"
        }
      ]
    },
    {
      "cell_type": "markdown",
      "metadata": {
        "id": "U6RTvriOhRUO",
        "colab_type": "text"
      },
      "source": [
        "# Dimensionality and Feature Selection"
      ]
    },
    {
      "cell_type": "markdown",
      "metadata": {
        "id": "CY-OqZBGhc3m",
        "colab_type": "text"
      },
      "source": [
        "## Upload and Reading the data"
      ]
    },
    {
      "cell_type": "code",
      "metadata": {
        "id": "_sEdT5qBRwSf",
        "colab_type": "code",
        "outputId": "b9bda527-eca2-4379-df58-ac8d3d990ddd",
        "colab": {
          "base_uri": "https://localhost:8080/",
          "height": 326
        }
      },
      "source": [
        "#upload the data\n",
        "df = read.csv(\"Supermarket_Dataset_1 - Sales Data.csv\")\n",
        "head(df)"
      ],
      "execution_count": 167,
      "outputs": [
        {
          "output_type": "display_data",
          "data": {
            "text/plain": [
              "  Invoice.ID  Branch Customer.type Gender Product.line           Unit.price\n",
              "1 750-67-8428 A      Member        Female Health and beauty      74.69     \n",
              "2 226-31-3081 C      Normal        Female Electronic accessories 15.28     \n",
              "3 631-41-3108 A      Normal        Male   Home and lifestyle     46.33     \n",
              "4 123-19-1176 A      Member        Male   Health and beauty      58.22     \n",
              "5 373-73-7910 A      Normal        Male   Sports and travel      86.31     \n",
              "6 699-14-3026 C      Normal        Male   Electronic accessories 85.39     \n",
              "  Quantity Tax     Date      Time  Payment     cogs   gross.margin.percentage\n",
              "1 7        26.1415 1/5/2019  13:08 Ewallet     522.83 4.761905               \n",
              "2 5         3.8200 3/8/2019  10:29 Cash         76.40 4.761905               \n",
              "3 7        16.2155 3/3/2019  13:23 Credit card 324.31 4.761905               \n",
              "4 8        23.2880 1/27/2019 20:33 Ewallet     465.76 4.761905               \n",
              "5 7        30.2085 2/8/2019  10:37 Ewallet     604.17 4.761905               \n",
              "6 7        29.8865 3/25/2019 18:30 Ewallet     597.73 4.761905               \n",
              "  gross.income Rating Total   \n",
              "1 26.1415      9.1    548.9715\n",
              "2  3.8200      9.6     80.2200\n",
              "3 16.2155      7.4    340.5255\n",
              "4 23.2880      8.4    489.0480\n",
              "5 30.2085      5.3    634.3785\n",
              "6 29.8865      4.1    627.6165"
            ],
            "text/latex": "A data.frame: 6 × 16\n\\begin{tabular}{r|llllllllllllllll}\n  & Invoice.ID & Branch & Customer.type & Gender & Product.line & Unit.price & Quantity & Tax & Date & Time & Payment & cogs & gross.margin.percentage & gross.income & Rating & Total\\\\\n  & <fct> & <fct> & <fct> & <fct> & <fct> & <dbl> & <int> & <dbl> & <fct> & <fct> & <fct> & <dbl> & <dbl> & <dbl> & <dbl> & <dbl>\\\\\n\\hline\n\t1 & 750-67-8428 & A & Member & Female & Health and beauty      & 74.69 & 7 & 26.1415 & 1/5/2019  & 13:08 & Ewallet     & 522.83 & 4.761905 & 26.1415 & 9.1 & 548.9715\\\\\n\t2 & 226-31-3081 & C & Normal & Female & Electronic accessories & 15.28 & 5 &  3.8200 & 3/8/2019  & 10:29 & Cash        &  76.40 & 4.761905 &  3.8200 & 9.6 &  80.2200\\\\\n\t3 & 631-41-3108 & A & Normal & Male   & Home and lifestyle     & 46.33 & 7 & 16.2155 & 3/3/2019  & 13:23 & Credit card & 324.31 & 4.761905 & 16.2155 & 7.4 & 340.5255\\\\\n\t4 & 123-19-1176 & A & Member & Male   & Health and beauty      & 58.22 & 8 & 23.2880 & 1/27/2019 & 20:33 & Ewallet     & 465.76 & 4.761905 & 23.2880 & 8.4 & 489.0480\\\\\n\t5 & 373-73-7910 & A & Normal & Male   & Sports and travel      & 86.31 & 7 & 30.2085 & 2/8/2019  & 10:37 & Ewallet     & 604.17 & 4.761905 & 30.2085 & 5.3 & 634.3785\\\\\n\t6 & 699-14-3026 & C & Normal & Male   & Electronic accessories & 85.39 & 7 & 29.8865 & 3/25/2019 & 18:30 & Ewallet     & 597.73 & 4.761905 & 29.8865 & 4.1 & 627.6165\\\\\n\\end{tabular}\n",
            "text/markdown": "\nA data.frame: 6 × 16\n\n| <!--/--> | Invoice.ID &lt;fct&gt; | Branch &lt;fct&gt; | Customer.type &lt;fct&gt; | Gender &lt;fct&gt; | Product.line &lt;fct&gt; | Unit.price &lt;dbl&gt; | Quantity &lt;int&gt; | Tax &lt;dbl&gt; | Date &lt;fct&gt; | Time &lt;fct&gt; | Payment &lt;fct&gt; | cogs &lt;dbl&gt; | gross.margin.percentage &lt;dbl&gt; | gross.income &lt;dbl&gt; | Rating &lt;dbl&gt; | Total &lt;dbl&gt; |\n|---|---|---|---|---|---|---|---|---|---|---|---|---|---|---|---|---|\n| 1 | 750-67-8428 | A | Member | Female | Health and beauty      | 74.69 | 7 | 26.1415 | 1/5/2019  | 13:08 | Ewallet     | 522.83 | 4.761905 | 26.1415 | 9.1 | 548.9715 |\n| 2 | 226-31-3081 | C | Normal | Female | Electronic accessories | 15.28 | 5 |  3.8200 | 3/8/2019  | 10:29 | Cash        |  76.40 | 4.761905 |  3.8200 | 9.6 |  80.2200 |\n| 3 | 631-41-3108 | A | Normal | Male   | Home and lifestyle     | 46.33 | 7 | 16.2155 | 3/3/2019  | 13:23 | Credit card | 324.31 | 4.761905 | 16.2155 | 7.4 | 340.5255 |\n| 4 | 123-19-1176 | A | Member | Male   | Health and beauty      | 58.22 | 8 | 23.2880 | 1/27/2019 | 20:33 | Ewallet     | 465.76 | 4.761905 | 23.2880 | 8.4 | 489.0480 |\n| 5 | 373-73-7910 | A | Normal | Male   | Sports and travel      | 86.31 | 7 | 30.2085 | 2/8/2019  | 10:37 | Ewallet     | 604.17 | 4.761905 | 30.2085 | 5.3 | 634.3785 |\n| 6 | 699-14-3026 | C | Normal | Male   | Electronic accessories | 85.39 | 7 | 29.8865 | 3/25/2019 | 18:30 | Ewallet     | 597.73 | 4.761905 | 29.8865 | 4.1 | 627.6165 |\n\n",
            "text/html": [
              "<table>\n",
              "<caption>A data.frame: 6 × 16</caption>\n",
              "<thead>\n",
              "\t<tr><th></th><th scope=col>Invoice.ID</th><th scope=col>Branch</th><th scope=col>Customer.type</th><th scope=col>Gender</th><th scope=col>Product.line</th><th scope=col>Unit.price</th><th scope=col>Quantity</th><th scope=col>Tax</th><th scope=col>Date</th><th scope=col>Time</th><th scope=col>Payment</th><th scope=col>cogs</th><th scope=col>gross.margin.percentage</th><th scope=col>gross.income</th><th scope=col>Rating</th><th scope=col>Total</th></tr>\n",
              "\t<tr><th></th><th scope=col>&lt;fct&gt;</th><th scope=col>&lt;fct&gt;</th><th scope=col>&lt;fct&gt;</th><th scope=col>&lt;fct&gt;</th><th scope=col>&lt;fct&gt;</th><th scope=col>&lt;dbl&gt;</th><th scope=col>&lt;int&gt;</th><th scope=col>&lt;dbl&gt;</th><th scope=col>&lt;fct&gt;</th><th scope=col>&lt;fct&gt;</th><th scope=col>&lt;fct&gt;</th><th scope=col>&lt;dbl&gt;</th><th scope=col>&lt;dbl&gt;</th><th scope=col>&lt;dbl&gt;</th><th scope=col>&lt;dbl&gt;</th><th scope=col>&lt;dbl&gt;</th></tr>\n",
              "</thead>\n",
              "<tbody>\n",
              "\t<tr><th scope=row>1</th><td>750-67-8428</td><td>A</td><td>Member</td><td>Female</td><td>Health and beauty     </td><td>74.69</td><td>7</td><td>26.1415</td><td>1/5/2019 </td><td>13:08</td><td>Ewallet    </td><td>522.83</td><td>4.761905</td><td>26.1415</td><td>9.1</td><td>548.9715</td></tr>\n",
              "\t<tr><th scope=row>2</th><td>226-31-3081</td><td>C</td><td>Normal</td><td>Female</td><td>Electronic accessories</td><td>15.28</td><td>5</td><td> 3.8200</td><td>3/8/2019 </td><td>10:29</td><td>Cash       </td><td> 76.40</td><td>4.761905</td><td> 3.8200</td><td>9.6</td><td> 80.2200</td></tr>\n",
              "\t<tr><th scope=row>3</th><td>631-41-3108</td><td>A</td><td>Normal</td><td>Male  </td><td>Home and lifestyle    </td><td>46.33</td><td>7</td><td>16.2155</td><td>3/3/2019 </td><td>13:23</td><td>Credit card</td><td>324.31</td><td>4.761905</td><td>16.2155</td><td>7.4</td><td>340.5255</td></tr>\n",
              "\t<tr><th scope=row>4</th><td>123-19-1176</td><td>A</td><td>Member</td><td>Male  </td><td>Health and beauty     </td><td>58.22</td><td>8</td><td>23.2880</td><td>1/27/2019</td><td>20:33</td><td>Ewallet    </td><td>465.76</td><td>4.761905</td><td>23.2880</td><td>8.4</td><td>489.0480</td></tr>\n",
              "\t<tr><th scope=row>5</th><td>373-73-7910</td><td>A</td><td>Normal</td><td>Male  </td><td>Sports and travel     </td><td>86.31</td><td>7</td><td>30.2085</td><td>2/8/2019 </td><td>10:37</td><td>Ewallet    </td><td>604.17</td><td>4.761905</td><td>30.2085</td><td>5.3</td><td>634.3785</td></tr>\n",
              "\t<tr><th scope=row>6</th><td>699-14-3026</td><td>C</td><td>Normal</td><td>Male  </td><td>Electronic accessories</td><td>85.39</td><td>7</td><td>29.8865</td><td>3/25/2019</td><td>18:30</td><td>Ewallet    </td><td>597.73</td><td>4.761905</td><td>29.8865</td><td>4.1</td><td>627.6165</td></tr>\n",
              "</tbody>\n",
              "</table>\n"
            ]
          },
          "metadata": {
            "tags": []
          }
        }
      ]
    },
    {
      "cell_type": "markdown",
      "metadata": {
        "id": "l9fDiIx6YA1Y",
        "colab_type": "text"
      },
      "source": [
        "## Data Understanding"
      ]
    },
    {
      "cell_type": "markdown",
      "metadata": {
        "id": "NgaZHRuud4hn",
        "colab_type": "text"
      },
      "source": [
        "Variables\n",
        "\n",
        "cogs (cost of goods) - direct costs of producing the goods sold by a company. This amount includes the cost of the materials and labor directly used to create the good.\n",
        "\n",
        "gross.margin.percentage - a measure of how efficiently the company produces and distributes its goods, but the percentage must be viewed in relation to other companies in its industry.\n",
        "\n",
        "gross income - is the sum of all wages, salaries, profits, interest payments, rents, and other forms of earnings, before any deductions or taxes."
      ]
    },
    {
      "cell_type": "code",
      "metadata": {
        "id": "t2jq-X9ba8RN",
        "colab_type": "code",
        "outputId": "08f48bd5-9544-4146-a2b1-ed8cb552abd1",
        "colab": {
          "base_uri": "https://localhost:8080/",
          "height": 306
        }
      },
      "source": [
        "#checking the number of rows and columns\n",
        "str(df)\n",
        "\n",
        "#this dataframe has 1000 rows and 16 columns \n",
        "# 8 are factors,7 are numeric nad 1 is an integer"
      ],
      "execution_count": 168,
      "outputs": [
        {
          "output_type": "stream",
          "text": [
            "'data.frame':\t1000 obs. of  16 variables:\n",
            " $ Invoice.ID             : Factor w/ 1000 levels \"101-17-6199\",..: 815 143 654 19 340 734 316 265 703 727 ...\n",
            " $ Branch                 : Factor w/ 3 levels \"A\",\"B\",\"C\": 1 3 1 1 1 3 1 3 1 2 ...\n",
            " $ Customer.type          : Factor w/ 2 levels \"Member\",\"Normal\": 1 2 2 1 2 2 1 2 1 1 ...\n",
            " $ Gender                 : Factor w/ 2 levels \"Female\",\"Male\": 1 1 2 2 2 2 1 1 1 1 ...\n",
            " $ Product.line           : Factor w/ 6 levels \"Electronic accessories\",..: 4 1 5 4 6 1 1 5 4 3 ...\n",
            " $ Unit.price             : num  74.7 15.3 46.3 58.2 86.3 ...\n",
            " $ Quantity               : int  7 5 7 8 7 7 6 10 2 3 ...\n",
            " $ Tax                    : num  26.14 3.82 16.22 23.29 30.21 ...\n",
            " $ Date                   : Factor w/ 89 levels \"1/1/2019\",\"1/10/2019\",..: 27 88 82 20 58 77 49 48 2 44 ...\n",
            " $ Time                   : Factor w/ 506 levels \"10:00\",\"10:01\",..: 147 24 156 486 30 394 215 78 342 160 ...\n",
            " $ Payment                : Factor w/ 3 levels \"Cash\",\"Credit card\",..: 3 1 2 3 3 3 3 3 2 2 ...\n",
            " $ cogs                   : num  522.8 76.4 324.3 465.8 604.2 ...\n",
            " $ gross.margin.percentage: num  4.76 4.76 4.76 4.76 4.76 ...\n",
            " $ gross.income           : num  26.14 3.82 16.22 23.29 30.21 ...\n",
            " $ Rating                 : num  9.1 9.6 7.4 8.4 5.3 4.1 5.8 8 7.2 5.9 ...\n",
            " $ Total                  : num  549 80.2 340.5 489 634.4 ...\n"
          ],
          "name": "stdout"
        }
      ]
    },
    {
      "cell_type": "code",
      "metadata": {
        "id": "hFM4XIDPYEoa",
        "colab_type": "code",
        "outputId": "e5c47a88-d0dc-4f66-c0de-142be7564ffb",
        "colab": {
          "base_uri": "https://localhost:8080/",
          "height": 589
        }
      },
      "source": [
        "#print(unique(df[\"Branch\"]))\n",
        "#number of unique elements in the dataset\n",
        "lapply(df, function(x) length(table(x)))\n",
        "\n",
        "## Assumptions \n",
        "#it is likely that this dataset contains no duplicates since the invoice id are all different \n",
        "#from this i would say that the profit margins are not improving\n",
        "# the gross percentage income is 4.761905 except for one instance indicating the profit margins are stagnant which is not so good for the business"
      ],
      "execution_count": 169,
      "outputs": [
        {
          "output_type": "display_data",
          "data": {
            "text/plain": [
              "$Invoice.ID\n",
              "[1] 1000\n",
              "\n",
              "$Branch\n",
              "[1] 3\n",
              "\n",
              "$Customer.type\n",
              "[1] 2\n",
              "\n",
              "$Gender\n",
              "[1] 2\n",
              "\n",
              "$Product.line\n",
              "[1] 6\n",
              "\n",
              "$Unit.price\n",
              "[1] 943\n",
              "\n",
              "$Quantity\n",
              "[1] 10\n",
              "\n",
              "$Tax\n",
              "[1] 990\n",
              "\n",
              "$Date\n",
              "[1] 89\n",
              "\n",
              "$Time\n",
              "[1] 506\n",
              "\n",
              "$Payment\n",
              "[1] 3\n",
              "\n",
              "$cogs\n",
              "[1] 990\n",
              "\n",
              "$gross.margin.percentage\n",
              "[1] 1\n",
              "\n",
              "$gross.income\n",
              "[1] 990\n",
              "\n",
              "$Rating\n",
              "[1] 61\n",
              "\n",
              "$Total\n",
              "[1] 990\n"
            ],
            "text/latex": "\\begin{description}\n\\item[\\$Invoice.ID] 1000\n\\item[\\$Branch] 3\n\\item[\\$Customer.type] 2\n\\item[\\$Gender] 2\n\\item[\\$Product.line] 6\n\\item[\\$Unit.price] 943\n\\item[\\$Quantity] 10\n\\item[\\$Tax] 990\n\\item[\\$Date] 89\n\\item[\\$Time] 506\n\\item[\\$Payment] 3\n\\item[\\$cogs] 990\n\\item[\\$gross.margin.percentage] 1\n\\item[\\$gross.income] 990\n\\item[\\$Rating] 61\n\\item[\\$Total] 990\n\\end{description}\n",
            "text/markdown": "$Invoice.ID\n:   1000\n$Branch\n:   3\n$Customer.type\n:   2\n$Gender\n:   2\n$Product.line\n:   6\n$Unit.price\n:   943\n$Quantity\n:   10\n$Tax\n:   990\n$Date\n:   89\n$Time\n:   506\n$Payment\n:   3\n$cogs\n:   990\n$gross.margin.percentage\n:   1\n$gross.income\n:   990\n$Rating\n:   61\n$Total\n:   990\n\n\n",
            "text/html": [
              "<dl>\n",
              "\t<dt>$Invoice.ID</dt>\n",
              "\t\t<dd>1000</dd>\n",
              "\t<dt>$Branch</dt>\n",
              "\t\t<dd>3</dd>\n",
              "\t<dt>$Customer.type</dt>\n",
              "\t\t<dd>2</dd>\n",
              "\t<dt>$Gender</dt>\n",
              "\t\t<dd>2</dd>\n",
              "\t<dt>$Product.line</dt>\n",
              "\t\t<dd>6</dd>\n",
              "\t<dt>$Unit.price</dt>\n",
              "\t\t<dd>943</dd>\n",
              "\t<dt>$Quantity</dt>\n",
              "\t\t<dd>10</dd>\n",
              "\t<dt>$Tax</dt>\n",
              "\t\t<dd>990</dd>\n",
              "\t<dt>$Date</dt>\n",
              "\t\t<dd>89</dd>\n",
              "\t<dt>$Time</dt>\n",
              "\t\t<dd>506</dd>\n",
              "\t<dt>$Payment</dt>\n",
              "\t\t<dd>3</dd>\n",
              "\t<dt>$cogs</dt>\n",
              "\t\t<dd>990</dd>\n",
              "\t<dt>$gross.margin.percentage</dt>\n",
              "\t\t<dd>1</dd>\n",
              "\t<dt>$gross.income</dt>\n",
              "\t\t<dd>990</dd>\n",
              "\t<dt>$Rating</dt>\n",
              "\t\t<dd>61</dd>\n",
              "\t<dt>$Total</dt>\n",
              "\t\t<dd>990</dd>\n",
              "</dl>\n"
            ]
          },
          "metadata": {
            "tags": []
          }
        }
      ]
    },
    {
      "cell_type": "markdown",
      "metadata": {
        "id": "4YkOvzlnhraV",
        "colab_type": "text"
      },
      "source": [
        "## Data Cleaning"
      ]
    },
    {
      "cell_type": "markdown",
      "metadata": {
        "id": "qnw5z4oJh_U8",
        "colab_type": "text"
      },
      "source": [
        "### Validity - outliers"
      ]
    },
    {
      "cell_type": "code",
      "metadata": {
        "id": "BD1E4JG-hvnx",
        "colab_type": "code",
        "outputId": "50d38041-8bc4-42c3-b50a-94a1c51c79ee",
        "colab": {
          "base_uri": "https://localhost:8080/",
          "height": 204
        }
      },
      "source": [
        "#create a dataframe with just numeric values to plot the boxplots\n",
        "num_int <- df[ , -which(names(df) %in% c(\"Branch\",\"Customer.type\",\"Gender\",\"Product.line\",\"Payment\"))]\n",
        "head(num_int)"
      ],
      "execution_count": 170,
      "outputs": [
        {
          "output_type": "display_data",
          "data": {
            "text/plain": [
              "  Invoice.ID  Unit.price Quantity Tax     Date      Time  cogs  \n",
              "1 750-67-8428 74.69      7        26.1415 1/5/2019  13:08 522.83\n",
              "2 226-31-3081 15.28      5         3.8200 3/8/2019  10:29  76.40\n",
              "3 631-41-3108 46.33      7        16.2155 3/3/2019  13:23 324.31\n",
              "4 123-19-1176 58.22      8        23.2880 1/27/2019 20:33 465.76\n",
              "5 373-73-7910 86.31      7        30.2085 2/8/2019  10:37 604.17\n",
              "6 699-14-3026 85.39      7        29.8865 3/25/2019 18:30 597.73\n",
              "  gross.margin.percentage gross.income Rating Total   \n",
              "1 4.761905                26.1415      9.1    548.9715\n",
              "2 4.761905                 3.8200      9.6     80.2200\n",
              "3 4.761905                16.2155      7.4    340.5255\n",
              "4 4.761905                23.2880      8.4    489.0480\n",
              "5 4.761905                30.2085      5.3    634.3785\n",
              "6 4.761905                29.8865      4.1    627.6165"
            ],
            "text/latex": "A data.frame: 6 × 11\n\\begin{tabular}{r|lllllllllll}\n  & Invoice.ID & Unit.price & Quantity & Tax & Date & Time & cogs & gross.margin.percentage & gross.income & Rating & Total\\\\\n  & <fct> & <dbl> & <int> & <dbl> & <fct> & <fct> & <dbl> & <dbl> & <dbl> & <dbl> & <dbl>\\\\\n\\hline\n\t1 & 750-67-8428 & 74.69 & 7 & 26.1415 & 1/5/2019  & 13:08 & 522.83 & 4.761905 & 26.1415 & 9.1 & 548.9715\\\\\n\t2 & 226-31-3081 & 15.28 & 5 &  3.8200 & 3/8/2019  & 10:29 &  76.40 & 4.761905 &  3.8200 & 9.6 &  80.2200\\\\\n\t3 & 631-41-3108 & 46.33 & 7 & 16.2155 & 3/3/2019  & 13:23 & 324.31 & 4.761905 & 16.2155 & 7.4 & 340.5255\\\\\n\t4 & 123-19-1176 & 58.22 & 8 & 23.2880 & 1/27/2019 & 20:33 & 465.76 & 4.761905 & 23.2880 & 8.4 & 489.0480\\\\\n\t5 & 373-73-7910 & 86.31 & 7 & 30.2085 & 2/8/2019  & 10:37 & 604.17 & 4.761905 & 30.2085 & 5.3 & 634.3785\\\\\n\t6 & 699-14-3026 & 85.39 & 7 & 29.8865 & 3/25/2019 & 18:30 & 597.73 & 4.761905 & 29.8865 & 4.1 & 627.6165\\\\\n\\end{tabular}\n",
            "text/markdown": "\nA data.frame: 6 × 11\n\n| <!--/--> | Invoice.ID &lt;fct&gt; | Unit.price &lt;dbl&gt; | Quantity &lt;int&gt; | Tax &lt;dbl&gt; | Date &lt;fct&gt; | Time &lt;fct&gt; | cogs &lt;dbl&gt; | gross.margin.percentage &lt;dbl&gt; | gross.income &lt;dbl&gt; | Rating &lt;dbl&gt; | Total &lt;dbl&gt; |\n|---|---|---|---|---|---|---|---|---|---|---|---|\n| 1 | 750-67-8428 | 74.69 | 7 | 26.1415 | 1/5/2019  | 13:08 | 522.83 | 4.761905 | 26.1415 | 9.1 | 548.9715 |\n| 2 | 226-31-3081 | 15.28 | 5 |  3.8200 | 3/8/2019  | 10:29 |  76.40 | 4.761905 |  3.8200 | 9.6 |  80.2200 |\n| 3 | 631-41-3108 | 46.33 | 7 | 16.2155 | 3/3/2019  | 13:23 | 324.31 | 4.761905 | 16.2155 | 7.4 | 340.5255 |\n| 4 | 123-19-1176 | 58.22 | 8 | 23.2880 | 1/27/2019 | 20:33 | 465.76 | 4.761905 | 23.2880 | 8.4 | 489.0480 |\n| 5 | 373-73-7910 | 86.31 | 7 | 30.2085 | 2/8/2019  | 10:37 | 604.17 | 4.761905 | 30.2085 | 5.3 | 634.3785 |\n| 6 | 699-14-3026 | 85.39 | 7 | 29.8865 | 3/25/2019 | 18:30 | 597.73 | 4.761905 | 29.8865 | 4.1 | 627.6165 |\n\n",
            "text/html": [
              "<table>\n",
              "<caption>A data.frame: 6 × 11</caption>\n",
              "<thead>\n",
              "\t<tr><th></th><th scope=col>Invoice.ID</th><th scope=col>Unit.price</th><th scope=col>Quantity</th><th scope=col>Tax</th><th scope=col>Date</th><th scope=col>Time</th><th scope=col>cogs</th><th scope=col>gross.margin.percentage</th><th scope=col>gross.income</th><th scope=col>Rating</th><th scope=col>Total</th></tr>\n",
              "\t<tr><th></th><th scope=col>&lt;fct&gt;</th><th scope=col>&lt;dbl&gt;</th><th scope=col>&lt;int&gt;</th><th scope=col>&lt;dbl&gt;</th><th scope=col>&lt;fct&gt;</th><th scope=col>&lt;fct&gt;</th><th scope=col>&lt;dbl&gt;</th><th scope=col>&lt;dbl&gt;</th><th scope=col>&lt;dbl&gt;</th><th scope=col>&lt;dbl&gt;</th><th scope=col>&lt;dbl&gt;</th></tr>\n",
              "</thead>\n",
              "<tbody>\n",
              "\t<tr><th scope=row>1</th><td>750-67-8428</td><td>74.69</td><td>7</td><td>26.1415</td><td>1/5/2019 </td><td>13:08</td><td>522.83</td><td>4.761905</td><td>26.1415</td><td>9.1</td><td>548.9715</td></tr>\n",
              "\t<tr><th scope=row>2</th><td>226-31-3081</td><td>15.28</td><td>5</td><td> 3.8200</td><td>3/8/2019 </td><td>10:29</td><td> 76.40</td><td>4.761905</td><td> 3.8200</td><td>9.6</td><td> 80.2200</td></tr>\n",
              "\t<tr><th scope=row>3</th><td>631-41-3108</td><td>46.33</td><td>7</td><td>16.2155</td><td>3/3/2019 </td><td>13:23</td><td>324.31</td><td>4.761905</td><td>16.2155</td><td>7.4</td><td>340.5255</td></tr>\n",
              "\t<tr><th scope=row>4</th><td>123-19-1176</td><td>58.22</td><td>8</td><td>23.2880</td><td>1/27/2019</td><td>20:33</td><td>465.76</td><td>4.761905</td><td>23.2880</td><td>8.4</td><td>489.0480</td></tr>\n",
              "\t<tr><th scope=row>5</th><td>373-73-7910</td><td>86.31</td><td>7</td><td>30.2085</td><td>2/8/2019 </td><td>10:37</td><td>604.17</td><td>4.761905</td><td>30.2085</td><td>5.3</td><td>634.3785</td></tr>\n",
              "\t<tr><th scope=row>6</th><td>699-14-3026</td><td>85.39</td><td>7</td><td>29.8865</td><td>3/25/2019</td><td>18:30</td><td>597.73</td><td>4.761905</td><td>29.8865</td><td>4.1</td><td>627.6165</td></tr>\n",
              "</tbody>\n",
              "</table>\n"
            ]
          },
          "metadata": {
            "tags": []
          }
        }
      ]
    },
    {
      "cell_type": "code",
      "metadata": {
        "id": "NSUtbfvZlwDy",
        "colab_type": "code",
        "outputId": "a8485d8c-a364-4eaa-a78b-dbd2f76c769c",
        "colab": {
          "base_uri": "https://localhost:8080/",
          "height": 34
        }
      },
      "source": [
        "colnames(num_int)"
      ],
      "execution_count": 171,
      "outputs": [
        {
          "output_type": "display_data",
          "data": {
            "text/plain": [
              " [1] \"Invoice.ID\"              \"Unit.price\"             \n",
              " [3] \"Quantity\"                \"Tax\"                    \n",
              " [5] \"Date\"                    \"Time\"                   \n",
              " [7] \"cogs\"                    \"gross.margin.percentage\"\n",
              " [9] \"gross.income\"            \"Rating\"                 \n",
              "[11] \"Total\"                  "
            ],
            "text/latex": "\\begin{enumerate*}\n\\item 'Invoice.ID'\n\\item 'Unit.price'\n\\item 'Quantity'\n\\item 'Tax'\n\\item 'Date'\n\\item 'Time'\n\\item 'cogs'\n\\item 'gross.margin.percentage'\n\\item 'gross.income'\n\\item 'Rating'\n\\item 'Total'\n\\end{enumerate*}\n",
            "text/markdown": "1. 'Invoice.ID'\n2. 'Unit.price'\n3. 'Quantity'\n4. 'Tax'\n5. 'Date'\n6. 'Time'\n7. 'cogs'\n8. 'gross.margin.percentage'\n9. 'gross.income'\n10. 'Rating'\n11. 'Total'\n\n\n",
            "text/html": [
              "<style>\n",
              ".list-inline {list-style: none; margin:0; padding: 0}\n",
              ".list-inline>li {display: inline-block}\n",
              ".list-inline>li:not(:last-child)::after {content: \"\\00b7\"; padding: 0 .5ex}\n",
              "</style>\n",
              "<ol class=list-inline><li>'Invoice.ID'</li><li>'Unit.price'</li><li>'Quantity'</li><li>'Tax'</li><li>'Date'</li><li>'Time'</li><li>'cogs'</li><li>'gross.margin.percentage'</li><li>'gross.income'</li><li>'Rating'</li><li>'Total'</li></ol>\n"
            ]
          },
          "metadata": {
            "tags": []
          }
        }
      ]
    },
    {
      "cell_type": "code",
      "metadata": {
        "id": "zwfW4OxairhN",
        "colab_type": "code",
        "colab": {
          "base_uri": "https://localhost:8080/",
          "height": 911
        },
        "outputId": "06a1100b-312e-4d26-963b-de2fc15b207c"
      },
      "source": [
        "#plot the boxplot\n",
        "boxplot(df$Invoice.ID\t,df$Unit.price,df$Quantity,\tdf$Tax\t,df$Date,\tdf$Time,\tdf$cogs\t,df$gross.margin.percentage\t,df$gross.income\t,df$Rating,\tdf$Total,\n",
        "main = \"Multiple boxplots for comparision\",\n",
        "at = c(1,2,4,5),\n",
        "names = c('Invoice.ID','Unit.price','Quantity','Tax','Date','Time','cogs','gross.margin.percentage','gross.income','Rating','Total'),\n",
        "las = 2,\n",
        "col = c(\"orange\",\"red\"),\n",
        "border = \"brown\",\n",
        "horizontal = TRUE,\n",
        "notch = TRUE\n",
        ")"
      ],
      "execution_count": 172,
      "outputs": [
        {
          "output_type": "error",
          "ename": "ERROR",
          "evalue": "ignored",
          "traceback": [
            "Error in bxp(list(stats = structure(c(1, 250.5, 500.5, 750.5, 1000, 10.08, : 'at' must have same length as 'z$n', i.e. 11\nTraceback:\n",
            "1. boxplot(df$Invoice.ID, df$Unit.price, df$Quantity, df$Tax, df$Date, \n .     df$Time, df$cogs, df$gross.margin.percentage, df$gross.income, \n .     df$Rating, df$Total, main = \"Multiple boxplots for comparision\", \n .     at = c(1, 2, 4, 5), names = c(\"Invoice.ID\", \"Unit.price\", \n .         \"Quantity\", \"Tax\", \"Date\", \"Time\", \"cogs\", \"gross.margin.percentage\", \n .         \"gross.income\", \"Rating\", \"Total\"), las = 2, col = c(\"orange\", \n .         \"red\"), border = \"brown\", horizontal = TRUE, notch = TRUE)",
            "2. boxplot.default(df$Invoice.ID, df$Unit.price, df$Quantity, df$Tax, \n .     df$Date, df$Time, df$cogs, df$gross.margin.percentage, df$gross.income, \n .     df$Rating, df$Total, main = \"Multiple boxplots for comparision\", \n .     at = c(1, 2, 4, 5), names = c(\"Invoice.ID\", \"Unit.price\", \n .         \"Quantity\", \"Tax\", \"Date\", \"Time\", \"cogs\", \"gross.margin.percentage\", \n .         \"gross.income\", \"Rating\", \"Total\"), las = 2, col = c(\"orange\", \n .         \"red\"), border = \"brown\", horizontal = TRUE, notch = TRUE)",
            "3. do.call(\"bxp\", c(list(z, notch = notch, width = width, varwidth = varwidth, \n .     log = log, border = border, pars = pars, outline = outline, \n .     horizontal = horizontal, add = add, ann = ann, at = at), \n .     args[namedargs]))",
            "4. bxp(list(stats = structure(c(1, 250.5, 500.5, 750.5, 1000, 10.08, \n . 32.85, 55.23, 77.94, 99.96, 1, 3, 5, 8, 10, 0.5085, 5.89475, \n . 12.088, 22.4605, 45.325, 1, 22, 47, 68, 89, 1, 128, 249, 384, \n . 506, 10.17, 117.895, 241.76, 449.21, 906.5, 4.761904762, 4.761904762, \n . 4.761904762, 4.761904762, 4.761904762, 0.5085, 5.89475, 12.088, \n . 22.4605, 45.325, 4, 5.5, 7, 8.5, 10, 10.6785, 123.78975, 253.848, \n . 471.6705, 951.825), .Dim = c(5L, 11L)), n = c(1000, 1000, 1000, \n . 1000, 1000, 1000, 1000, 1000, 1000, 1000, 1000), conf = structure(c(475.51800648467, \n . 525.48199351533, 52.9771238247875, 57.4828761752125, 4.7501800648467, \n . 5.2498199351533, 11.2603090818468, 12.9156909181532, 44.7016565965896, \n . 49.2983434034104, 236.209219320151, 261.790780679849, 225.206181636937, \n . 258.313818363063, 4.761904762, 4.761904762, 11.2603090818468, \n . 12.9156909181532, 6.85010803890802, 7.14989196109198, 236.466490718784, \n . 271.229509281216), .Dim = c(2L, 11L)), out = c(47.79, 49.49, \n . 49.65, 47.72, 48.605, 49.26, 48.75, 48.685, 48.69, 955.8, 989.8, \n . 993, 954.4, 972.1, 985.2, 975, 973.7, 973.8, 47.79, 49.49, 49.65, \n . 47.72, 48.605, 49.26, 48.75, 48.685, 48.69, 1003.59, 1039.29, \n . 1042.65, 1002.12, 1020.705, 1034.46, 1023.75, 1022.385, 1022.49\n . ), group = c(4, 4, 4, 4, 4, 4, 4, 4, 4, 7, 7, 7, 7, 7, 7, 7, \n . 7, 7, 9, 9, 9, 9, 9, 9, 9, 9, 9, 11, 11, 11, 11, 11, 11, 11, \n . 11, 11), names = c(\"Invoice.ID\", \"Unit.price\", \"Quantity\", \"Tax\", \n . \"Date\", \"Time\", \"cogs\", \"gross.margin.percentage\", \"gross.income\", \n . \"Rating\", \"Total\")), notch = TRUE, width = NULL, varwidth = FALSE, \n .     log = \"\", border = \"brown\", pars = list(boxwex = 0.8, staplewex = 0.5, \n .         outwex = 0.5, boxfill = c(\"orange\", \"red\")), outline = TRUE, \n .     horizontal = TRUE, add = FALSE, ann = TRUE, at = c(1, 2, \n .     4, 5), main = \"Multiple boxplots for comparision\", las = 2)",
            "5. stop(gettextf(\"'at' must have same length as 'z$n', i.e. %d\", \n .     n), domain = NA)"
          ]
        }
      ]
    },
    {
      "cell_type": "markdown",
      "metadata": {
        "id": "a_FV3csTnQcB",
        "colab_type": "text"
      },
      "source": [
        "### Completeness"
      ]
    },
    {
      "cell_type": "code",
      "metadata": {
        "id": "4e0alc8vnVvm",
        "colab_type": "code",
        "colab": {}
      },
      "source": [
        "#install dataexplorer to help with visualization\n",
        "install.packages(\"DataExplorer\")\n",
        "library(DataExplorer)"
      ],
      "execution_count": 0,
      "outputs": []
    },
    {
      "cell_type": "code",
      "metadata": {
        "id": "C5BvqaZnoQMV",
        "colab_type": "code",
        "outputId": "23625678-be3e-4a18-fd4f-304beb23e8be",
        "colab": {
          "base_uri": "https://localhost:8080/",
          "height": 437
        }
      },
      "source": [
        "#visualize missing values\n",
        "plot_missing(df)\n",
        "\n",
        "#there exists no missing values "
      ],
      "execution_count": 173,
      "outputs": [
        {
          "output_type": "display_data",
          "data": {
            "image/png": "[encoded data removed]",
            "text/plain": [
              "plot without title"
            ]
          },
          "metadata": {
            "tags": [],
            "image/png": {
              "width": 420,
              "height": 420
            },
            "text/plain": {
              "width": 420,
              "height": 420
            }
          }
        }
      ]
    },
    {
      "cell_type": "code",
      "metadata": {
        "id": "ExyHPXcvnvL8",
        "colab_type": "code",
        "outputId": "232385f4-d4eb-4129-d436-642041acc623",
        "colab": {
          "base_uri": "https://localhost:8080/",
          "height": 51
        }
      },
      "source": [
        "#check for missing values \n",
        "colSums(is.na(df))"
      ],
      "execution_count": 174,
      "outputs": [
        {
          "output_type": "display_data",
          "data": {
            "text/plain": [
              "             Invoice.ID                  Branch           Customer.type \n",
              "                      0                       0                       0 \n",
              "                 Gender            Product.line              Unit.price \n",
              "                      0                       0                       0 \n",
              "               Quantity                     Tax                    Date \n",
              "                      0                       0                       0 \n",
              "                   Time                 Payment                    cogs \n",
              "                      0                       0                       0 \n",
              "gross.margin.percentage            gross.income                  Rating \n",
              "                      0                       0                       0 \n",
              "                  Total \n",
              "                      0 "
            ],
            "text/latex": "\\begin{description*}\n\\item[Invoice.ID] 0\n\\item[Branch] 0\n\\item[Customer.type] 0\n\\item[Gender] 0\n\\item[Product.line] 0\n\\item[Unit.price] 0\n\\item[Quantity] 0\n\\item[Tax] 0\n\\item[Date] 0\n\\item[Time] 0\n\\item[Payment] 0\n\\item[cogs] 0\n\\item[gross.margin.percentage] 0\n\\item[gross.income] 0\n\\item[Rating] 0\n\\item[Total] 0\n\\end{description*}\n",
            "text/markdown": "Invoice.ID\n:   0Branch\n:   0Customer.type\n:   0Gender\n:   0Product.line\n:   0Unit.price\n:   0Quantity\n:   0Tax\n:   0Date\n:   0Time\n:   0Payment\n:   0cogs\n:   0gross.margin.percentage\n:   0gross.income\n:   0Rating\n:   0Total\n:   0\n\n",
            "text/html": [
              "<style>\n",
              ".dl-inline {width: auto; margin:0; padding: 0}\n",
              ".dl-inline>dt, .dl-inline>dd {float: none; width: auto; display: inline-block}\n",
              ".dl-inline>dt::after {content: \":\\0020\"; padding-right: .5ex}\n",
              ".dl-inline>dt:not(:first-of-type) {padding-left: .5ex}\n",
              "</style><dl class=dl-inline><dt>Invoice.ID</dt><dd>0</dd><dt>Branch</dt><dd>0</dd><dt>Customer.type</dt><dd>0</dd><dt>Gender</dt><dd>0</dd><dt>Product.line</dt><dd>0</dd><dt>Unit.price</dt><dd>0</dd><dt>Quantity</dt><dd>0</dd><dt>Tax</dt><dd>0</dd><dt>Date</dt><dd>0</dd><dt>Time</dt><dd>0</dd><dt>Payment</dt><dd>0</dd><dt>cogs</dt><dd>0</dd><dt>gross.margin.percentage</dt><dd>0</dd><dt>gross.income</dt><dd>0</dd><dt>Rating</dt><dd>0</dd><dt>Total</dt><dd>0</dd></dl>\n"
            ]
          },
          "metadata": {
            "tags": []
          }
        }
      ]
    },
    {
      "cell_type": "markdown",
      "metadata": {
        "id": "kH38UQ7Znpc4",
        "colab_type": "text"
      },
      "source": [
        "### Consistency"
      ]
    },
    {
      "cell_type": "code",
      "metadata": {
        "id": "1JlDVG4lntad",
        "colab_type": "code",
        "outputId": "4f281b4f-f59e-41af-85e9-cbea8bb921b3",
        "colab": {
          "base_uri": "https://localhost:8080/",
          "height": 34
        }
      },
      "source": [
        "#look out for duplicates\n",
        "#in this case we shall be confirming our assumption\n",
        "anyDuplicated(df)\n",
        "\n",
        "#there exists no duplicates in the dataset"
      ],
      "execution_count": 175,
      "outputs": [
        {
          "output_type": "display_data",
          "data": {
            "text/plain": [
              "[1] 0"
            ],
            "text/latex": "0",
            "text/markdown": "0",
            "text/html": [
              "0"
            ]
          },
          "metadata": {
            "tags": []
          }
        }
      ]
    },
    {
      "cell_type": "markdown",
      "metadata": {
        "id": "mipOqLzQ6jDv",
        "colab_type": "text"
      },
      "source": [
        "**PCA**\n",
        "\n",
        " Dimensionality Reduction is the process of reducing the dimensions of data without loosing much of information\n",
        " PCA can be applied only to numeric data. Therefore we need to encode the columns "
      ]
    },
    {
      "cell_type": "code",
      "metadata": {
        "id": "uWntGdDqJi2V",
        "colab_type": "code",
        "colab": {}
      },
      "source": [
        "#convert to numeric and encoded\n",
        "df$\tInvoice.ID_new <- as.numeric(df$Invoice.ID)\n",
        "df$Branch_new <- as.numeric(as.factor(df$Branch))\n",
        "df$Customer.type_new <- as.numeric(as.factor(df$Customer.type))\n",
        "df$Gender_new <- as.numeric(as.factor(df$Gender))\n",
        "df$Product.line_new <- as.numeric(as.factor(df$Product.line))\n",
        "df$Payment_new <- as.numeric(as.factor(df$Payment))\n",
        "df$\tTime_new <- as.numeric(df$Time)\n"
      ],
      "execution_count": 0,
      "outputs": []
    },
    {
      "cell_type": "code",
      "metadata": {
        "id": "exh2U8c18jRK",
        "colab_type": "code",
        "colab": {}
      },
      "source": [
        "#manual encoding\n",
        "#df$Branch_new = factor(df$Branch,\n",
        " #              levels = c('A', 'B', 'C'),\n",
        "  #             labels = c(10, 2, 3))\n",
        "\n",
        "#df$Customer.type_new = factor(df$Customer.type,\n",
        " #              levels = c('\tMember', 'Normal'),\n",
        "  #             labels = c(10,2))         \n",
        "\n",
        "#df$Gender_new = factor(df$Gender,\n",
        "   #            levels = c('\tFemale', 'Male'),\n",
        "    #           labels = c(10,2))   \n",
        "\n",
        " #df$Product.line_new = factor(df$Product.line,\n",
        "  #             levels = c('\tHealth and beauty', 'Electronic accessories','Home and lifestyle','Sports and travel','Food and beverages','Fashion accessories'),\n",
        "   #            labels = c(10,2,3,4,5,6))   \n",
        "\n",
        "#df$Payment_new = factor(df$Payment,\n",
        " #              levels = c('\tEwallet', 'Cash','Credit card'),\n",
        "  #             labels = c(10,2,3))"
      ],
      "execution_count": 0,
      "outputs": []
    },
    {
      "cell_type": "code",
      "metadata": {
        "id": "WHStb1lT-UiT",
        "colab_type": "code",
        "colab": {}
      },
      "source": [
        "#convert factor to numeric\n",
        "#df$Customer.type <- as.numeric(as.character(df$Customer.type))\n",
        "#df$Branch_new <- as.numeric(df$Branch_new)\n",
        "#df$Customer.type_new <- as.numeric(df$Customer.type_new)\n",
        "#df$Gender_new <- as.numeric(df$Gender_new)\n",
        "#df$Product.line_new <- as.numeric(df$Product.line_new)\n",
        "#df$Payment_new <- as.numeric(df$Payment_new)\n"
      ],
      "execution_count": 0,
      "outputs": []
    },
    {
      "cell_type": "code",
      "metadata": {
        "id": "VIjypywLEoGj",
        "colab_type": "code",
        "colab": {}
      },
      "source": [
        "#seperate the year,month and day\n",
        "#convert to date format\n",
        "df$Date <- as.Date(df$Date, format=\"%m/%d/%y\")\n",
        "\n",
        "#get the seperate columns\n",
        "df$year <- year(ymd(df$Date))\n",
        "df$month <- month(ymd(df$Date)) \n",
        "df$day <- day(ymd(df$Date))"
      ],
      "execution_count": 0,
      "outputs": []
    },
    {
      "cell_type": "code",
      "metadata": {
        "id": "tiKjifRjAxj1",
        "colab_type": "code",
        "colab": {
          "base_uri": "https://localhost:8080/",
          "height": 326
        },
        "outputId": "345eebda-0c13-4e74-8c1e-acbf10d7391e"
      },
      "source": [
        "options(repr.matrix.max.cols=50, repr.matrix.max.rows=100)\n",
        "head(df)"
      ],
      "execution_count": 201,
      "outputs": [
        {
          "output_type": "display_data",
          "data": {
            "text/plain": [
              "  Invoice.ID  Branch Customer.type Gender Product.line           Unit.price\n",
              "1 750-67-8428 A      Member        Female Health and beauty      74.69     \n",
              "2 226-31-3081 C      Normal        Female Electronic accessories 15.28     \n",
              "3 631-41-3108 A      Normal        Male   Home and lifestyle     46.33     \n",
              "4 123-19-1176 A      Member        Male   Health and beauty      58.22     \n",
              "5 373-73-7910 A      Normal        Male   Sports and travel      86.31     \n",
              "6 699-14-3026 C      Normal        Male   Electronic accessories 85.39     \n",
              "  Quantity Tax     Date       Time  Payment     cogs   gross.margin.percentage\n",
              "1 7        26.1415 2019-01-05 13:08 Ewallet     522.83 4.761905               \n",
              "2 5         3.8200 2019-03-08 10:29 Cash         76.40 4.761905               \n",
              "3 7        16.2155 2019-03-03 13:23 Credit card 324.31 4.761905               \n",
              "4 8        23.2880 2019-01-27 20:33 Ewallet     465.76 4.761905               \n",
              "5 7        30.2085 2019-02-08 10:37 Ewallet     604.17 4.761905               \n",
              "6 7        29.8865 2019-03-25 18:30 Ewallet     597.73 4.761905               \n",
              "  gross.income Rating Total    Branch_new Customer.type_new Gender_new\n",
              "1 26.1415      9.1    548.9715 1          1                 1         \n",
              "2  3.8200      9.6     80.2200 3          2                 1         \n",
              "3 16.2155      7.4    340.5255 1          2                 2         \n",
              "4 23.2880      8.4    489.0480 1          1                 2         \n",
              "5 30.2085      5.3    634.3785 1          2                 2         \n",
              "6 29.8865      4.1    627.6165 3          2                 2         \n",
              "  Product.line_new Payment_new year month day Invoice.ID_new Time_new\n",
              "1 4                3           2019 1      5  815            147     \n",
              "2 1                1           2019 3      8  143             24     \n",
              "3 5                2           2019 3      3  654            156     \n",
              "4 4                3           2019 1     27   19            486     \n",
              "5 6                3           2019 2      8  340             30     \n",
              "6 1                3           2019 3     25  734            394     "
            ],
            "text/latex": "A data.frame: 6 × 26\n\\begin{tabular}{r|llllllllllllllllllllllllll}\n  & Invoice.ID & Branch & Customer.type & Gender & Product.line & Unit.price & Quantity & Tax & Date & Time & Payment & cogs & gross.margin.percentage & gross.income & Rating & Total & Branch\\_new & Customer.type\\_new & Gender\\_new & Product.line\\_new & Payment\\_new & year & month & day & Invoice.ID\\_new & Time\\_new\\\\\n  & <fct> & <fct> & <fct> & <fct> & <fct> & <dbl> & <int> & <dbl> & <date> & <fct> & <fct> & <dbl> & <dbl> & <dbl> & <dbl> & <dbl> & <dbl> & <dbl> & <dbl> & <dbl> & <dbl> & <dbl> & <dbl> & <int> & <dbl> & <dbl>\\\\\n\\hline\n\t1 & 750-67-8428 & A & Member & Female & Health and beauty      & 74.69 & 7 & 26.1415 & 2019-01-05 & 13:08 & Ewallet     & 522.83 & 4.761905 & 26.1415 & 9.1 & 548.9715 & 1 & 1 & 1 & 4 & 3 & 2019 & 1 &  5 & 815 & 147\\\\\n\t2 & 226-31-3081 & C & Normal & Female & Electronic accessories & 15.28 & 5 &  3.8200 & 2019-03-08 & 10:29 & Cash        &  76.40 & 4.761905 &  3.8200 & 9.6 &  80.2200 & 3 & 2 & 1 & 1 & 1 & 2019 & 3 &  8 & 143 &  24\\\\\n\t3 & 631-41-3108 & A & Normal & Male   & Home and lifestyle     & 46.33 & 7 & 16.2155 & 2019-03-03 & 13:23 & Credit card & 324.31 & 4.761905 & 16.2155 & 7.4 & 340.5255 & 1 & 2 & 2 & 5 & 2 & 2019 & 3 &  3 & 654 & 156\\\\\n\t4 & 123-19-1176 & A & Member & Male   & Health and beauty      & 58.22 & 8 & 23.2880 & 2019-01-27 & 20:33 & Ewallet     & 465.76 & 4.761905 & 23.2880 & 8.4 & 489.0480 & 1 & 1 & 2 & 4 & 3 & 2019 & 1 & 27 &  19 & 486\\\\\n\t5 & 373-73-7910 & A & Normal & Male   & Sports and travel      & 86.31 & 7 & 30.2085 & 2019-02-08 & 10:37 & Ewallet     & 604.17 & 4.761905 & 30.2085 & 5.3 & 634.3785 & 1 & 2 & 2 & 6 & 3 & 2019 & 2 &  8 & 340 &  30\\\\\n\t6 & 699-14-3026 & C & Normal & Male   & Electronic accessories & 85.39 & 7 & 29.8865 & 2019-03-25 & 18:30 & Ewallet     & 597.73 & 4.761905 & 29.8865 & 4.1 & 627.6165 & 3 & 2 & 2 & 1 & 3 & 2019 & 3 & 25 & 734 & 394\\\\\n\\end{tabular}\n",
            "text/markdown": "\nA data.frame: 6 × 26\n\n| <!--/--> | Invoice.ID &lt;fct&gt; | Branch &lt;fct&gt; | Customer.type &lt;fct&gt; | Gender &lt;fct&gt; | Product.line &lt;fct&gt; | Unit.price &lt;dbl&gt; | Quantity &lt;int&gt; | Tax &lt;dbl&gt; | Date &lt;date&gt; | Time &lt;fct&gt; | Payment &lt;fct&gt; | cogs &lt;dbl&gt; | gross.margin.percentage &lt;dbl&gt; | gross.income &lt;dbl&gt; | Rating &lt;dbl&gt; | Total &lt;dbl&gt; | Branch_new &lt;dbl&gt; | Customer.type_new &lt;dbl&gt; | Gender_new &lt;dbl&gt; | Product.line_new &lt;dbl&gt; | Payment_new &lt;dbl&gt; | year &lt;dbl&gt; | month &lt;dbl&gt; | day &lt;int&gt; | Invoice.ID_new &lt;dbl&gt; | Time_new &lt;dbl&gt; |\n|---|---|---|---|---|---|---|---|---|---|---|---|---|---|---|---|---|---|---|---|---|---|---|---|---|---|---|\n| 1 | 750-67-8428 | A | Member | Female | Health and beauty      | 74.69 | 7 | 26.1415 | 2019-01-05 | 13:08 | Ewallet     | 522.83 | 4.761905 | 26.1415 | 9.1 | 548.9715 | 1 | 1 | 1 | 4 | 3 | 2019 | 1 |  5 | 815 | 147 |\n| 2 | 226-31-3081 | C | Normal | Female | Electronic accessories | 15.28 | 5 |  3.8200 | 2019-03-08 | 10:29 | Cash        |  76.40 | 4.761905 |  3.8200 | 9.6 |  80.2200 | 3 | 2 | 1 | 1 | 1 | 2019 | 3 |  8 | 143 |  24 |\n| 3 | 631-41-3108 | A | Normal | Male   | Home and lifestyle     | 46.33 | 7 | 16.2155 | 2019-03-03 | 13:23 | Credit card | 324.31 | 4.761905 | 16.2155 | 7.4 | 340.5255 | 1 | 2 | 2 | 5 | 2 | 2019 | 3 |  3 | 654 | 156 |\n| 4 | 123-19-1176 | A | Member | Male   | Health and beauty      | 58.22 | 8 | 23.2880 | 2019-01-27 | 20:33 | Ewallet     | 465.76 | 4.761905 | 23.2880 | 8.4 | 489.0480 | 1 | 1 | 2 | 4 | 3 | 2019 | 1 | 27 |  19 | 486 |\n| 5 | 373-73-7910 | A | Normal | Male   | Sports and travel      | 86.31 | 7 | 30.2085 | 2019-02-08 | 10:37 | Ewallet     | 604.17 | 4.761905 | 30.2085 | 5.3 | 634.3785 | 1 | 2 | 2 | 6 | 3 | 2019 | 2 |  8 | 340 |  30 |\n| 6 | 699-14-3026 | C | Normal | Male   | Electronic accessories | 85.39 | 7 | 29.8865 | 2019-03-25 | 18:30 | Ewallet     | 597.73 | 4.761905 | 29.8865 | 4.1 | 627.6165 | 3 | 2 | 2 | 1 | 3 | 2019 | 3 | 25 | 734 | 394 |\n\n",
            "text/html": [
              "<table>\n",
              "<caption>A data.frame: 6 × 26</caption>\n",
              "<thead>\n",
              "\t<tr><th></th><th scope=col>Invoice.ID</th><th scope=col>Branch</th><th scope=col>Customer.type</th><th scope=col>Gender</th><th scope=col>Product.line</th><th scope=col>Unit.price</th><th scope=col>Quantity</th><th scope=col>Tax</th><th scope=col>Date</th><th scope=col>Time</th><th scope=col>Payment</th><th scope=col>cogs</th><th scope=col>gross.margin.percentage</th><th scope=col>gross.income</th><th scope=col>Rating</th><th scope=col>Total</th><th scope=col>Branch_new</th><th scope=col>Customer.type_new</th><th scope=col>Gender_new</th><th scope=col>Product.line_new</th><th scope=col>Payment_new</th><th scope=col>year</th><th scope=col>month</th><th scope=col>day</th><th scope=col>Invoice.ID_new</th><th scope=col>Time_new</th></tr>\n",
              "\t<tr><th></th><th scope=col>&lt;fct&gt;</th><th scope=col>&lt;fct&gt;</th><th scope=col>&lt;fct&gt;</th><th scope=col>&lt;fct&gt;</th><th scope=col>&lt;fct&gt;</th><th scope=col>&lt;dbl&gt;</th><th scope=col>&lt;int&gt;</th><th scope=col>&lt;dbl&gt;</th><th scope=col>&lt;date&gt;</th><th scope=col>&lt;fct&gt;</th><th scope=col>&lt;fct&gt;</th><th scope=col>&lt;dbl&gt;</th><th scope=col>&lt;dbl&gt;</th><th scope=col>&lt;dbl&gt;</th><th scope=col>&lt;dbl&gt;</th><th scope=col>&lt;dbl&gt;</th><th scope=col>&lt;dbl&gt;</th><th scope=col>&lt;dbl&gt;</th><th scope=col>&lt;dbl&gt;</th><th scope=col>&lt;dbl&gt;</th><th scope=col>&lt;dbl&gt;</th><th scope=col>&lt;dbl&gt;</th><th scope=col>&lt;dbl&gt;</th><th scope=col>&lt;int&gt;</th><th scope=col>&lt;dbl&gt;</th><th scope=col>&lt;dbl&gt;</th></tr>\n",
              "</thead>\n",
              "<tbody>\n",
              "\t<tr><th scope=row>1</th><td>750-67-8428</td><td>A</td><td>Member</td><td>Female</td><td>Health and beauty     </td><td>74.69</td><td>7</td><td>26.1415</td><td>2019-01-05</td><td>13:08</td><td>Ewallet    </td><td>522.83</td><td>4.761905</td><td>26.1415</td><td>9.1</td><td>548.9715</td><td>1</td><td>1</td><td>1</td><td>4</td><td>3</td><td>2019</td><td>1</td><td> 5</td><td>815</td><td>147</td></tr>\n",
              "\t<tr><th scope=row>2</th><td>226-31-3081</td><td>C</td><td>Normal</td><td>Female</td><td>Electronic accessories</td><td>15.28</td><td>5</td><td> 3.8200</td><td>2019-03-08</td><td>10:29</td><td>Cash       </td><td> 76.40</td><td>4.761905</td><td> 3.8200</td><td>9.6</td><td> 80.2200</td><td>3</td><td>2</td><td>1</td><td>1</td><td>1</td><td>2019</td><td>3</td><td> 8</td><td>143</td><td> 24</td></tr>\n",
              "\t<tr><th scope=row>3</th><td>631-41-3108</td><td>A</td><td>Normal</td><td>Male  </td><td>Home and lifestyle    </td><td>46.33</td><td>7</td><td>16.2155</td><td>2019-03-03</td><td>13:23</td><td>Credit card</td><td>324.31</td><td>4.761905</td><td>16.2155</td><td>7.4</td><td>340.5255</td><td>1</td><td>2</td><td>2</td><td>5</td><td>2</td><td>2019</td><td>3</td><td> 3</td><td>654</td><td>156</td></tr>\n",
              "\t<tr><th scope=row>4</th><td>123-19-1176</td><td>A</td><td>Member</td><td>Male  </td><td>Health and beauty     </td><td>58.22</td><td>8</td><td>23.2880</td><td>2019-01-27</td><td>20:33</td><td>Ewallet    </td><td>465.76</td><td>4.761905</td><td>23.2880</td><td>8.4</td><td>489.0480</td><td>1</td><td>1</td><td>2</td><td>4</td><td>3</td><td>2019</td><td>1</td><td>27</td><td> 19</td><td>486</td></tr>\n",
              "\t<tr><th scope=row>5</th><td>373-73-7910</td><td>A</td><td>Normal</td><td>Male  </td><td>Sports and travel     </td><td>86.31</td><td>7</td><td>30.2085</td><td>2019-02-08</td><td>10:37</td><td>Ewallet    </td><td>604.17</td><td>4.761905</td><td>30.2085</td><td>5.3</td><td>634.3785</td><td>1</td><td>2</td><td>2</td><td>6</td><td>3</td><td>2019</td><td>2</td><td> 8</td><td>340</td><td> 30</td></tr>\n",
              "\t<tr><th scope=row>6</th><td>699-14-3026</td><td>C</td><td>Normal</td><td>Male  </td><td>Electronic accessories</td><td>85.39</td><td>7</td><td>29.8865</td><td>2019-03-25</td><td>18:30</td><td>Ewallet    </td><td>597.73</td><td>4.761905</td><td>29.8865</td><td>4.1</td><td>627.6165</td><td>3</td><td>2</td><td>2</td><td>1</td><td>3</td><td>2019</td><td>3</td><td>25</td><td>734</td><td>394</td></tr>\n",
              "</tbody>\n",
              "</table>\n"
            ]
          },
          "metadata": {
            "tags": []
          }
        }
      ]
    },
    {
      "cell_type": "code",
      "metadata": {
        "id": "fUzCgo9C6kXk",
        "colab_type": "code",
        "colab": {
          "base_uri": "https://localhost:8080/",
          "height": 119
        },
        "outputId": "8cde9483-e141-4179-9516-5a37003a085c"
      },
      "source": [
        "#the dataset contain data only from 2019\n",
        "print(unique(df[\"year\"]))\n",
        "#its also data from 3 months(JAN,FEB,MARCH)\n",
        "print(unique(df[\"month\"]))"
      ],
      "execution_count": 202,
      "outputs": [
        {
          "output_type": "stream",
          "text": [
            "  year\n",
            "1 2019\n",
            "  month\n",
            "1     1\n",
            "2     3\n",
            "5     2\n"
          ],
          "name": "stdout"
        }
      ]
    },
    {
      "cell_type": "code",
      "metadata": {
        "id": "qt6ipjUqTq4Y",
        "colab_type": "code",
        "colab": {
          "base_uri": "https://localhost:8080/",
          "height": 224
        },
        "outputId": "a2dfb376-a848-48e9-fbb0-c264287f30d8"
      },
      "source": [
        "#create a dataframe with all numeric and integer values \n",
        "new_df <- df[sapply(df,is.numeric)]\n",
        "\n",
        "#print results\n",
        "head(new_df)\n",
        "\n",
        "#we can therefore conduct PCA "
      ],
      "execution_count": 204,
      "outputs": [
        {
          "output_type": "display_data",
          "data": {
            "text/plain": [
              "  Unit.price Quantity Tax     cogs   gross.margin.percentage gross.income\n",
              "1 74.69      7        26.1415 522.83 4.761905                26.1415     \n",
              "2 15.28      5         3.8200  76.40 4.761905                 3.8200     \n",
              "3 46.33      7        16.2155 324.31 4.761905                16.2155     \n",
              "4 58.22      8        23.2880 465.76 4.761905                23.2880     \n",
              "5 86.31      7        30.2085 604.17 4.761905                30.2085     \n",
              "6 85.39      7        29.8865 597.73 4.761905                29.8865     \n",
              "  Rating Total    Branch_new Customer.type_new Gender_new Product.line_new\n",
              "1 9.1    548.9715 1          1                 1          4               \n",
              "2 9.6     80.2200 3          2                 1          1               \n",
              "3 7.4    340.5255 1          2                 2          5               \n",
              "4 8.4    489.0480 1          1                 2          4               \n",
              "5 5.3    634.3785 1          2                 2          6               \n",
              "6 4.1    627.6165 3          2                 2          1               \n",
              "  Payment_new year month day Invoice.ID_new Time_new\n",
              "1 3           2019 1      5  815            147     \n",
              "2 1           2019 3      8  143             24     \n",
              "3 2           2019 3      3  654            156     \n",
              "4 3           2019 1     27   19            486     \n",
              "5 3           2019 2      8  340             30     \n",
              "6 3           2019 3     25  734            394     "
            ],
            "text/latex": "A data.frame: 6 × 18\n\\begin{tabular}{r|llllllllllllllllll}\n  & Unit.price & Quantity & Tax & cogs & gross.margin.percentage & gross.income & Rating & Total & Branch\\_new & Customer.type\\_new & Gender\\_new & Product.line\\_new & Payment\\_new & year & month & day & Invoice.ID\\_new & Time\\_new\\\\\n  & <dbl> & <int> & <dbl> & <dbl> & <dbl> & <dbl> & <dbl> & <dbl> & <dbl> & <dbl> & <dbl> & <dbl> & <dbl> & <dbl> & <dbl> & <int> & <dbl> & <dbl>\\\\\n\\hline\n\t1 & 74.69 & 7 & 26.1415 & 522.83 & 4.761905 & 26.1415 & 9.1 & 548.9715 & 1 & 1 & 1 & 4 & 3 & 2019 & 1 &  5 & 815 & 147\\\\\n\t2 & 15.28 & 5 &  3.8200 &  76.40 & 4.761905 &  3.8200 & 9.6 &  80.2200 & 3 & 2 & 1 & 1 & 1 & 2019 & 3 &  8 & 143 &  24\\\\\n\t3 & 46.33 & 7 & 16.2155 & 324.31 & 4.761905 & 16.2155 & 7.4 & 340.5255 & 1 & 2 & 2 & 5 & 2 & 2019 & 3 &  3 & 654 & 156\\\\\n\t4 & 58.22 & 8 & 23.2880 & 465.76 & 4.761905 & 23.2880 & 8.4 & 489.0480 & 1 & 1 & 2 & 4 & 3 & 2019 & 1 & 27 &  19 & 486\\\\\n\t5 & 86.31 & 7 & 30.2085 & 604.17 & 4.761905 & 30.2085 & 5.3 & 634.3785 & 1 & 2 & 2 & 6 & 3 & 2019 & 2 &  8 & 340 &  30\\\\\n\t6 & 85.39 & 7 & 29.8865 & 597.73 & 4.761905 & 29.8865 & 4.1 & 627.6165 & 3 & 2 & 2 & 1 & 3 & 2019 & 3 & 25 & 734 & 394\\\\\n\\end{tabular}\n",
            "text/markdown": "\nA data.frame: 6 × 18\n\n| <!--/--> | Unit.price &lt;dbl&gt; | Quantity &lt;int&gt; | Tax &lt;dbl&gt; | cogs &lt;dbl&gt; | gross.margin.percentage &lt;dbl&gt; | gross.income &lt;dbl&gt; | Rating &lt;dbl&gt; | Total &lt;dbl&gt; | Branch_new &lt;dbl&gt; | Customer.type_new &lt;dbl&gt; | Gender_new &lt;dbl&gt; | Product.line_new &lt;dbl&gt; | Payment_new &lt;dbl&gt; | year &lt;dbl&gt; | month &lt;dbl&gt; | day &lt;int&gt; | Invoice.ID_new &lt;dbl&gt; | Time_new &lt;dbl&gt; |\n|---|---|---|---|---|---|---|---|---|---|---|---|---|---|---|---|---|---|---|\n| 1 | 74.69 | 7 | 26.1415 | 522.83 | 4.761905 | 26.1415 | 9.1 | 548.9715 | 1 | 1 | 1 | 4 | 3 | 2019 | 1 |  5 | 815 | 147 |\n| 2 | 15.28 | 5 |  3.8200 |  76.40 | 4.761905 |  3.8200 | 9.6 |  80.2200 | 3 | 2 | 1 | 1 | 1 | 2019 | 3 |  8 | 143 |  24 |\n| 3 | 46.33 | 7 | 16.2155 | 324.31 | 4.761905 | 16.2155 | 7.4 | 340.5255 | 1 | 2 | 2 | 5 | 2 | 2019 | 3 |  3 | 654 | 156 |\n| 4 | 58.22 | 8 | 23.2880 | 465.76 | 4.761905 | 23.2880 | 8.4 | 489.0480 | 1 | 1 | 2 | 4 | 3 | 2019 | 1 | 27 |  19 | 486 |\n| 5 | 86.31 | 7 | 30.2085 | 604.17 | 4.761905 | 30.2085 | 5.3 | 634.3785 | 1 | 2 | 2 | 6 | 3 | 2019 | 2 |  8 | 340 |  30 |\n| 6 | 85.39 | 7 | 29.8865 | 597.73 | 4.761905 | 29.8865 | 4.1 | 627.6165 | 3 | 2 | 2 | 1 | 3 | 2019 | 3 | 25 | 734 | 394 |\n\n",
            "text/html": [
              "<table>\n",
              "<caption>A data.frame: 6 × 18</caption>\n",
              "<thead>\n",
              "\t<tr><th></th><th scope=col>Unit.price</th><th scope=col>Quantity</th><th scope=col>Tax</th><th scope=col>cogs</th><th scope=col>gross.margin.percentage</th><th scope=col>gross.income</th><th scope=col>Rating</th><th scope=col>Total</th><th scope=col>Branch_new</th><th scope=col>Customer.type_new</th><th scope=col>Gender_new</th><th scope=col>Product.line_new</th><th scope=col>Payment_new</th><th scope=col>year</th><th scope=col>month</th><th scope=col>day</th><th scope=col>Invoice.ID_new</th><th scope=col>Time_new</th></tr>\n",
              "\t<tr><th></th><th scope=col>&lt;dbl&gt;</th><th scope=col>&lt;int&gt;</th><th scope=col>&lt;dbl&gt;</th><th scope=col>&lt;dbl&gt;</th><th scope=col>&lt;dbl&gt;</th><th scope=col>&lt;dbl&gt;</th><th scope=col>&lt;dbl&gt;</th><th scope=col>&lt;dbl&gt;</th><th scope=col>&lt;dbl&gt;</th><th scope=col>&lt;dbl&gt;</th><th scope=col>&lt;dbl&gt;</th><th scope=col>&lt;dbl&gt;</th><th scope=col>&lt;dbl&gt;</th><th scope=col>&lt;dbl&gt;</th><th scope=col>&lt;dbl&gt;</th><th scope=col>&lt;int&gt;</th><th scope=col>&lt;dbl&gt;</th><th scope=col>&lt;dbl&gt;</th></tr>\n",
              "</thead>\n",
              "<tbody>\n",
              "\t<tr><th scope=row>1</th><td>74.69</td><td>7</td><td>26.1415</td><td>522.83</td><td>4.761905</td><td>26.1415</td><td>9.1</td><td>548.9715</td><td>1</td><td>1</td><td>1</td><td>4</td><td>3</td><td>2019</td><td>1</td><td> 5</td><td>815</td><td>147</td></tr>\n",
              "\t<tr><th scope=row>2</th><td>15.28</td><td>5</td><td> 3.8200</td><td> 76.40</td><td>4.761905</td><td> 3.8200</td><td>9.6</td><td> 80.2200</td><td>3</td><td>2</td><td>1</td><td>1</td><td>1</td><td>2019</td><td>3</td><td> 8</td><td>143</td><td> 24</td></tr>\n",
              "\t<tr><th scope=row>3</th><td>46.33</td><td>7</td><td>16.2155</td><td>324.31</td><td>4.761905</td><td>16.2155</td><td>7.4</td><td>340.5255</td><td>1</td><td>2</td><td>2</td><td>5</td><td>2</td><td>2019</td><td>3</td><td> 3</td><td>654</td><td>156</td></tr>\n",
              "\t<tr><th scope=row>4</th><td>58.22</td><td>8</td><td>23.2880</td><td>465.76</td><td>4.761905</td><td>23.2880</td><td>8.4</td><td>489.0480</td><td>1</td><td>1</td><td>2</td><td>4</td><td>3</td><td>2019</td><td>1</td><td>27</td><td> 19</td><td>486</td></tr>\n",
              "\t<tr><th scope=row>5</th><td>86.31</td><td>7</td><td>30.2085</td><td>604.17</td><td>4.761905</td><td>30.2085</td><td>5.3</td><td>634.3785</td><td>1</td><td>2</td><td>2</td><td>6</td><td>3</td><td>2019</td><td>2</td><td> 8</td><td>340</td><td> 30</td></tr>\n",
              "\t<tr><th scope=row>6</th><td>85.39</td><td>7</td><td>29.8865</td><td>597.73</td><td>4.761905</td><td>29.8865</td><td>4.1</td><td>627.6165</td><td>3</td><td>2</td><td>2</td><td>1</td><td>3</td><td>2019</td><td>3</td><td>25</td><td>734</td><td>394</td></tr>\n",
              "</tbody>\n",
              "</table>\n"
            ]
          },
          "metadata": {
            "tags": []
          }
        }
      ]
    },
    {
      "cell_type": "code",
      "metadata": {
        "id": "VWfQJSegYAjP",
        "colab_type": "code",
        "colab": {}
      },
      "source": [
        "#there is a possibility scaling is a problem because if the integer columns\n",
        "new_df$\tday <- as.numeric(new_df$day)\n",
        "new_df$\tQuantity <- as.numeric(new_df$Quantity)"
      ],
      "execution_count": 0,
      "outputs": []
    },
    {
      "cell_type": "code",
      "metadata": {
        "id": "pX1Q8zSxYb4C",
        "colab_type": "code",
        "colab": {
          "base_uri": "https://localhost:8080/",
          "height": 224
        },
        "outputId": "0e7c0980-cbef-4da6-e05b-5b786444516d"
      },
      "source": [
        "head(new_df)"
      ],
      "execution_count": 216,
      "outputs": [
        {
          "output_type": "display_data",
          "data": {
            "text/plain": [
              "  Unit.price Quantity Tax     cogs   gross.margin.percentage gross.income\n",
              "1 74.69      7        26.1415 522.83 4.761905                26.1415     \n",
              "2 15.28      5         3.8200  76.40 4.761905                 3.8200     \n",
              "3 46.33      7        16.2155 324.31 4.761905                16.2155     \n",
              "4 58.22      8        23.2880 465.76 4.761905                23.2880     \n",
              "5 86.31      7        30.2085 604.17 4.761905                30.2085     \n",
              "6 85.39      7        29.8865 597.73 4.761905                29.8865     \n",
              "  Rating Total    Branch_new Customer.type_new Gender_new Product.line_new\n",
              "1 9.1    548.9715 1          1                 1          4               \n",
              "2 9.6     80.2200 3          2                 1          1               \n",
              "3 7.4    340.5255 1          2                 2          5               \n",
              "4 8.4    489.0480 1          1                 2          4               \n",
              "5 5.3    634.3785 1          2                 2          6               \n",
              "6 4.1    627.6165 3          2                 2          1               \n",
              "  Payment_new year month day Invoice.ID_new Time_new\n",
              "1 3           2019 1      5  815            147     \n",
              "2 1           2019 3      8  143             24     \n",
              "3 2           2019 3      3  654            156     \n",
              "4 3           2019 1     27   19            486     \n",
              "5 3           2019 2      8  340             30     \n",
              "6 3           2019 3     25  734            394     "
            ],
            "text/latex": "A data.frame: 6 × 18\n\\begin{tabular}{r|llllllllllllllllll}\n  & Unit.price & Quantity & Tax & cogs & gross.margin.percentage & gross.income & Rating & Total & Branch\\_new & Customer.type\\_new & Gender\\_new & Product.line\\_new & Payment\\_new & year & month & day & Invoice.ID\\_new & Time\\_new\\\\\n  & <dbl> & <dbl> & <dbl> & <dbl> & <dbl> & <dbl> & <dbl> & <dbl> & <dbl> & <dbl> & <dbl> & <dbl> & <dbl> & <dbl> & <dbl> & <dbl> & <dbl> & <dbl>\\\\\n\\hline\n\t1 & 74.69 & 7 & 26.1415 & 522.83 & 4.761905 & 26.1415 & 9.1 & 548.9715 & 1 & 1 & 1 & 4 & 3 & 2019 & 1 &  5 & 815 & 147\\\\\n\t2 & 15.28 & 5 &  3.8200 &  76.40 & 4.761905 &  3.8200 & 9.6 &  80.2200 & 3 & 2 & 1 & 1 & 1 & 2019 & 3 &  8 & 143 &  24\\\\\n\t3 & 46.33 & 7 & 16.2155 & 324.31 & 4.761905 & 16.2155 & 7.4 & 340.5255 & 1 & 2 & 2 & 5 & 2 & 2019 & 3 &  3 & 654 & 156\\\\\n\t4 & 58.22 & 8 & 23.2880 & 465.76 & 4.761905 & 23.2880 & 8.4 & 489.0480 & 1 & 1 & 2 & 4 & 3 & 2019 & 1 & 27 &  19 & 486\\\\\n\t5 & 86.31 & 7 & 30.2085 & 604.17 & 4.761905 & 30.2085 & 5.3 & 634.3785 & 1 & 2 & 2 & 6 & 3 & 2019 & 2 &  8 & 340 &  30\\\\\n\t6 & 85.39 & 7 & 29.8865 & 597.73 & 4.761905 & 29.8865 & 4.1 & 627.6165 & 3 & 2 & 2 & 1 & 3 & 2019 & 3 & 25 & 734 & 394\\\\\n\\end{tabular}\n",
            "text/markdown": "\nA data.frame: 6 × 18\n\n| <!--/--> | Unit.price &lt;dbl&gt; | Quantity &lt;dbl&gt; | Tax &lt;dbl&gt; | cogs &lt;dbl&gt; | gross.margin.percentage &lt;dbl&gt; | gross.income &lt;dbl&gt; | Rating &lt;dbl&gt; | Total &lt;dbl&gt; | Branch_new &lt;dbl&gt; | Customer.type_new &lt;dbl&gt; | Gender_new &lt;dbl&gt; | Product.line_new &lt;dbl&gt; | Payment_new &lt;dbl&gt; | year &lt;dbl&gt; | month &lt;dbl&gt; | day &lt;dbl&gt; | Invoice.ID_new &lt;dbl&gt; | Time_new &lt;dbl&gt; |\n|---|---|---|---|---|---|---|---|---|---|---|---|---|---|---|---|---|---|---|\n| 1 | 74.69 | 7 | 26.1415 | 522.83 | 4.761905 | 26.1415 | 9.1 | 548.9715 | 1 | 1 | 1 | 4 | 3 | 2019 | 1 |  5 | 815 | 147 |\n| 2 | 15.28 | 5 |  3.8200 |  76.40 | 4.761905 |  3.8200 | 9.6 |  80.2200 | 3 | 2 | 1 | 1 | 1 | 2019 | 3 |  8 | 143 |  24 |\n| 3 | 46.33 | 7 | 16.2155 | 324.31 | 4.761905 | 16.2155 | 7.4 | 340.5255 | 1 | 2 | 2 | 5 | 2 | 2019 | 3 |  3 | 654 | 156 |\n| 4 | 58.22 | 8 | 23.2880 | 465.76 | 4.761905 | 23.2880 | 8.4 | 489.0480 | 1 | 1 | 2 | 4 | 3 | 2019 | 1 | 27 |  19 | 486 |\n| 5 | 86.31 | 7 | 30.2085 | 604.17 | 4.761905 | 30.2085 | 5.3 | 634.3785 | 1 | 2 | 2 | 6 | 3 | 2019 | 2 |  8 | 340 |  30 |\n| 6 | 85.39 | 7 | 29.8865 | 597.73 | 4.761905 | 29.8865 | 4.1 | 627.6165 | 3 | 2 | 2 | 1 | 3 | 2019 | 3 | 25 | 734 | 394 |\n\n",
            "text/html": [
              "<table>\n",
              "<caption>A data.frame: 6 × 18</caption>\n",
              "<thead>\n",
              "\t<tr><th></th><th scope=col>Unit.price</th><th scope=col>Quantity</th><th scope=col>Tax</th><th scope=col>cogs</th><th scope=col>gross.margin.percentage</th><th scope=col>gross.income</th><th scope=col>Rating</th><th scope=col>Total</th><th scope=col>Branch_new</th><th scope=col>Customer.type_new</th><th scope=col>Gender_new</th><th scope=col>Product.line_new</th><th scope=col>Payment_new</th><th scope=col>year</th><th scope=col>month</th><th scope=col>day</th><th scope=col>Invoice.ID_new</th><th scope=col>Time_new</th></tr>\n",
              "\t<tr><th></th><th scope=col>&lt;dbl&gt;</th><th scope=col>&lt;dbl&gt;</th><th scope=col>&lt;dbl&gt;</th><th scope=col>&lt;dbl&gt;</th><th scope=col>&lt;dbl&gt;</th><th scope=col>&lt;dbl&gt;</th><th scope=col>&lt;dbl&gt;</th><th scope=col>&lt;dbl&gt;</th><th scope=col>&lt;dbl&gt;</th><th scope=col>&lt;dbl&gt;</th><th scope=col>&lt;dbl&gt;</th><th scope=col>&lt;dbl&gt;</th><th scope=col>&lt;dbl&gt;</th><th scope=col>&lt;dbl&gt;</th><th scope=col>&lt;dbl&gt;</th><th scope=col>&lt;dbl&gt;</th><th scope=col>&lt;dbl&gt;</th><th scope=col>&lt;dbl&gt;</th></tr>\n",
              "</thead>\n",
              "<tbody>\n",
              "\t<tr><th scope=row>1</th><td>74.69</td><td>7</td><td>26.1415</td><td>522.83</td><td>4.761905</td><td>26.1415</td><td>9.1</td><td>548.9715</td><td>1</td><td>1</td><td>1</td><td>4</td><td>3</td><td>2019</td><td>1</td><td> 5</td><td>815</td><td>147</td></tr>\n",
              "\t<tr><th scope=row>2</th><td>15.28</td><td>5</td><td> 3.8200</td><td> 76.40</td><td>4.761905</td><td> 3.8200</td><td>9.6</td><td> 80.2200</td><td>3</td><td>2</td><td>1</td><td>1</td><td>1</td><td>2019</td><td>3</td><td> 8</td><td>143</td><td> 24</td></tr>\n",
              "\t<tr><th scope=row>3</th><td>46.33</td><td>7</td><td>16.2155</td><td>324.31</td><td>4.761905</td><td>16.2155</td><td>7.4</td><td>340.5255</td><td>1</td><td>2</td><td>2</td><td>5</td><td>2</td><td>2019</td><td>3</td><td> 3</td><td>654</td><td>156</td></tr>\n",
              "\t<tr><th scope=row>4</th><td>58.22</td><td>8</td><td>23.2880</td><td>465.76</td><td>4.761905</td><td>23.2880</td><td>8.4</td><td>489.0480</td><td>1</td><td>1</td><td>2</td><td>4</td><td>3</td><td>2019</td><td>1</td><td>27</td><td> 19</td><td>486</td></tr>\n",
              "\t<tr><th scope=row>5</th><td>86.31</td><td>7</td><td>30.2085</td><td>604.17</td><td>4.761905</td><td>30.2085</td><td>5.3</td><td>634.3785</td><td>1</td><td>2</td><td>2</td><td>6</td><td>3</td><td>2019</td><td>2</td><td> 8</td><td>340</td><td> 30</td></tr>\n",
              "\t<tr><th scope=row>6</th><td>85.39</td><td>7</td><td>29.8865</td><td>597.73</td><td>4.761905</td><td>29.8865</td><td>4.1</td><td>627.6165</td><td>3</td><td>2</td><td>2</td><td>1</td><td>3</td><td>2019</td><td>3</td><td>25</td><td>734</td><td>394</td></tr>\n",
              "</tbody>\n",
              "</table>\n"
            ]
          },
          "metadata": {
            "tags": []
          }
        }
      ]
    },
    {
      "cell_type": "markdown",
      "metadata": {
        "id": "9EtDHTc6ZXp_",
        "colab_type": "text"
      },
      "source": [
        "Because you can't divide by the standard deviation if it's infinity. To identify the zero-variance column, we can use which as follows to get the variable name."
      ]
    },
    {
      "cell_type": "code",
      "metadata": {
        "id": "6BXYNOkrZIv_",
        "colab_type": "code",
        "colab": {
          "base_uri": "https://localhost:8080/",
          "height": 34
        },
        "outputId": "4a727076-7f8f-4b30-cd8f-4a4b016b042a"
      },
      "source": [
        "which(apply(new_df, 2, var)==0)"
      ],
      "execution_count": 217,
      "outputs": [
        {
          "output_type": "display_data",
          "data": {
            "text/plain": [
              "gross.margin.percentage                    year \n",
              "                      5                      14 "
            ],
            "text/latex": "\\begin{description*}\n\\item[gross.margin.percentage] 5\n\\item[year] 14\n\\end{description*}\n",
            "text/markdown": "gross.margin.percentage\n:   5year\n:   14\n\n",
            "text/html": [
              "<style>\n",
              ".dl-inline {width: auto; margin:0; padding: 0}\n",
              ".dl-inline>dt, .dl-inline>dd {float: none; width: auto; display: inline-block}\n",
              ".dl-inline>dt::after {content: \":\\0020\"; padding-right: .5ex}\n",
              ".dl-inline>dt:not(:first-of-type) {padding-left: .5ex}\n",
              "</style><dl class=dl-inline><dt>gross.margin.percentage</dt><dd>5</dd><dt>year</dt><dd>14</dd></dl>\n"
            ]
          },
          "metadata": {
            "tags": []
          }
        }
      ]
    },
    {
      "cell_type": "markdown",
      "metadata": {
        "id": "7ritiu3aaA5x",
        "colab_type": "text"
      },
      "source": [
        "And to remove zero variance columns from the dataset, you can use the same apply expression, setting variance not equal to zero."
      ]
    },
    {
      "cell_type": "code",
      "metadata": {
        "id": "5GdIg42_Zbiu",
        "colab_type": "code",
        "colab": {}
      },
      "source": [
        "final_df <- new_df[ , which(apply(new_df, 2, var) != 0)]"
      ],
      "execution_count": 0,
      "outputs": []
    },
    {
      "cell_type": "code",
      "metadata": {
        "id": "4QhxsA9Ja4el",
        "colab_type": "code",
        "colab": {
          "base_uri": "https://localhost:8080/",
          "height": 224
        },
        "outputId": "70920c15-8dd4-4862-9933-72916d4107f0"
      },
      "source": [
        "head(final_df)"
      ],
      "execution_count": 224,
      "outputs": [
        {
          "output_type": "display_data",
          "data": {
            "text/plain": [
              "  Unit.price Quantity Tax     cogs   gross.income Rating Total    Branch_new\n",
              "1 74.69      7        26.1415 522.83 26.1415      9.1    548.9715 1         \n",
              "2 15.28      5         3.8200  76.40  3.8200      9.6     80.2200 3         \n",
              "3 46.33      7        16.2155 324.31 16.2155      7.4    340.5255 1         \n",
              "4 58.22      8        23.2880 465.76 23.2880      8.4    489.0480 1         \n",
              "5 86.31      7        30.2085 604.17 30.2085      5.3    634.3785 1         \n",
              "6 85.39      7        29.8865 597.73 29.8865      4.1    627.6165 3         \n",
              "  Customer.type_new Gender_new Product.line_new Payment_new month day\n",
              "1 1                 1          4                3           1      5 \n",
              "2 2                 1          1                1           3      8 \n",
              "3 2                 2          5                2           3      3 \n",
              "4 1                 2          4                3           1     27 \n",
              "5 2                 2          6                3           2      8 \n",
              "6 2                 2          1                3           3     25 \n",
              "  Invoice.ID_new Time_new\n",
              "1 815            147     \n",
              "2 143             24     \n",
              "3 654            156     \n",
              "4  19            486     \n",
              "5 340             30     \n",
              "6 734            394     "
            ],
            "text/latex": "A data.frame: 6 × 16\n\\begin{tabular}{r|llllllllllllllll}\n  & Unit.price & Quantity & Tax & cogs & gross.income & Rating & Total & Branch\\_new & Customer.type\\_new & Gender\\_new & Product.line\\_new & Payment\\_new & month & day & Invoice.ID\\_new & Time\\_new\\\\\n  & <dbl> & <dbl> & <dbl> & <dbl> & <dbl> & <dbl> & <dbl> & <dbl> & <dbl> & <dbl> & <dbl> & <dbl> & <dbl> & <dbl> & <dbl> & <dbl>\\\\\n\\hline\n\t1 & 74.69 & 7 & 26.1415 & 522.83 & 26.1415 & 9.1 & 548.9715 & 1 & 1 & 1 & 4 & 3 & 1 &  5 & 815 & 147\\\\\n\t2 & 15.28 & 5 &  3.8200 &  76.40 &  3.8200 & 9.6 &  80.2200 & 3 & 2 & 1 & 1 & 1 & 3 &  8 & 143 &  24\\\\\n\t3 & 46.33 & 7 & 16.2155 & 324.31 & 16.2155 & 7.4 & 340.5255 & 1 & 2 & 2 & 5 & 2 & 3 &  3 & 654 & 156\\\\\n\t4 & 58.22 & 8 & 23.2880 & 465.76 & 23.2880 & 8.4 & 489.0480 & 1 & 1 & 2 & 4 & 3 & 1 & 27 &  19 & 486\\\\\n\t5 & 86.31 & 7 & 30.2085 & 604.17 & 30.2085 & 5.3 & 634.3785 & 1 & 2 & 2 & 6 & 3 & 2 &  8 & 340 &  30\\\\\n\t6 & 85.39 & 7 & 29.8865 & 597.73 & 29.8865 & 4.1 & 627.6165 & 3 & 2 & 2 & 1 & 3 & 3 & 25 & 734 & 394\\\\\n\\end{tabular}\n",
            "text/markdown": "\nA data.frame: 6 × 16\n\n| <!--/--> | Unit.price &lt;dbl&gt; | Quantity &lt;dbl&gt; | Tax &lt;dbl&gt; | cogs &lt;dbl&gt; | gross.income &lt;dbl&gt; | Rating &lt;dbl&gt; | Total &lt;dbl&gt; | Branch_new &lt;dbl&gt; | Customer.type_new &lt;dbl&gt; | Gender_new &lt;dbl&gt; | Product.line_new &lt;dbl&gt; | Payment_new &lt;dbl&gt; | month &lt;dbl&gt; | day &lt;dbl&gt; | Invoice.ID_new &lt;dbl&gt; | Time_new &lt;dbl&gt; |\n|---|---|---|---|---|---|---|---|---|---|---|---|---|---|---|---|---|\n| 1 | 74.69 | 7 | 26.1415 | 522.83 | 26.1415 | 9.1 | 548.9715 | 1 | 1 | 1 | 4 | 3 | 1 |  5 | 815 | 147 |\n| 2 | 15.28 | 5 |  3.8200 |  76.40 |  3.8200 | 9.6 |  80.2200 | 3 | 2 | 1 | 1 | 1 | 3 |  8 | 143 |  24 |\n| 3 | 46.33 | 7 | 16.2155 | 324.31 | 16.2155 | 7.4 | 340.5255 | 1 | 2 | 2 | 5 | 2 | 3 |  3 | 654 | 156 |\n| 4 | 58.22 | 8 | 23.2880 | 465.76 | 23.2880 | 8.4 | 489.0480 | 1 | 1 | 2 | 4 | 3 | 1 | 27 |  19 | 486 |\n| 5 | 86.31 | 7 | 30.2085 | 604.17 | 30.2085 | 5.3 | 634.3785 | 1 | 2 | 2 | 6 | 3 | 2 |  8 | 340 |  30 |\n| 6 | 85.39 | 7 | 29.8865 | 597.73 | 29.8865 | 4.1 | 627.6165 | 3 | 2 | 2 | 1 | 3 | 3 | 25 | 734 | 394 |\n\n",
            "text/html": [
              "<table>\n",
              "<caption>A data.frame: 6 × 16</caption>\n",
              "<thead>\n",
              "\t<tr><th></th><th scope=col>Unit.price</th><th scope=col>Quantity</th><th scope=col>Tax</th><th scope=col>cogs</th><th scope=col>gross.income</th><th scope=col>Rating</th><th scope=col>Total</th><th scope=col>Branch_new</th><th scope=col>Customer.type_new</th><th scope=col>Gender_new</th><th scope=col>Product.line_new</th><th scope=col>Payment_new</th><th scope=col>month</th><th scope=col>day</th><th scope=col>Invoice.ID_new</th><th scope=col>Time_new</th></tr>\n",
              "\t<tr><th></th><th scope=col>&lt;dbl&gt;</th><th scope=col>&lt;dbl&gt;</th><th scope=col>&lt;dbl&gt;</th><th scope=col>&lt;dbl&gt;</th><th scope=col>&lt;dbl&gt;</th><th scope=col>&lt;dbl&gt;</th><th scope=col>&lt;dbl&gt;</th><th scope=col>&lt;dbl&gt;</th><th scope=col>&lt;dbl&gt;</th><th scope=col>&lt;dbl&gt;</th><th scope=col>&lt;dbl&gt;</th><th scope=col>&lt;dbl&gt;</th><th scope=col>&lt;dbl&gt;</th><th scope=col>&lt;dbl&gt;</th><th scope=col>&lt;dbl&gt;</th><th scope=col>&lt;dbl&gt;</th></tr>\n",
              "</thead>\n",
              "<tbody>\n",
              "\t<tr><th scope=row>1</th><td>74.69</td><td>7</td><td>26.1415</td><td>522.83</td><td>26.1415</td><td>9.1</td><td>548.9715</td><td>1</td><td>1</td><td>1</td><td>4</td><td>3</td><td>1</td><td> 5</td><td>815</td><td>147</td></tr>\n",
              "\t<tr><th scope=row>2</th><td>15.28</td><td>5</td><td> 3.8200</td><td> 76.40</td><td> 3.8200</td><td>9.6</td><td> 80.2200</td><td>3</td><td>2</td><td>1</td><td>1</td><td>1</td><td>3</td><td> 8</td><td>143</td><td> 24</td></tr>\n",
              "\t<tr><th scope=row>3</th><td>46.33</td><td>7</td><td>16.2155</td><td>324.31</td><td>16.2155</td><td>7.4</td><td>340.5255</td><td>1</td><td>2</td><td>2</td><td>5</td><td>2</td><td>3</td><td> 3</td><td>654</td><td>156</td></tr>\n",
              "\t<tr><th scope=row>4</th><td>58.22</td><td>8</td><td>23.2880</td><td>465.76</td><td>23.2880</td><td>8.4</td><td>489.0480</td><td>1</td><td>1</td><td>2</td><td>4</td><td>3</td><td>1</td><td>27</td><td> 19</td><td>486</td></tr>\n",
              "\t<tr><th scope=row>5</th><td>86.31</td><td>7</td><td>30.2085</td><td>604.17</td><td>30.2085</td><td>5.3</td><td>634.3785</td><td>1</td><td>2</td><td>2</td><td>6</td><td>3</td><td>2</td><td> 8</td><td>340</td><td> 30</td></tr>\n",
              "\t<tr><th scope=row>6</th><td>85.39</td><td>7</td><td>29.8865</td><td>597.73</td><td>29.8865</td><td>4.1</td><td>627.6165</td><td>3</td><td>2</td><td>2</td><td>1</td><td>3</td><td>3</td><td>25</td><td>734</td><td>394</td></tr>\n",
              "</tbody>\n",
              "</table>\n"
            ]
          },
          "metadata": {
            "tags": []
          }
        }
      ]
    },
    {
      "cell_type": "code",
      "metadata": {
        "id": "oAwSE74NUlH4",
        "colab_type": "code",
        "colab": {
          "base_uri": "https://localhost:8080/",
          "height": 1000
        },
        "outputId": "c5dc7ea2-003e-41f3-ee74-f1bd19bdae9e"
      },
      "source": [
        "df_pca <- prcomp(final_df, scale.=T)\n",
        "# It tries to center data with mean =0. The parameter scale. is set ‘T’ which means standard deviation is set 1.\n",
        "\n",
        "df_pca"
      ],
      "execution_count": 234,
      "outputs": [
        {
          "output_type": "display_data",
          "data": {
            "text/plain": [
              "Standard deviations (1, .., p=16):\n",
              " [1] 2.220436e+00 1.091045e+00 1.080350e+00 1.061351e+00 1.028061e+00\n",
              " [6] 9.995489e-01 9.939866e-01 9.782927e-01 9.666623e-01 9.472319e-01\n",
              "[11] 9.194654e-01 9.043853e-01 2.992902e-01 1.567397e-16 1.468097e-16\n",
              "[16] 6.193377e-17\n",
              "\n",
              "Rotation (n x k) = (16 x 16):\n",
              "                            PC1         PC2          PC3          PC4\n",
              "Unit.price        -0.2910956532 -0.21528946  0.190209143 -0.084378815\n",
              "Quantity          -0.3244041614  0.17545286 -0.165104492  0.069792362\n",
              "Tax               -0.4492976910 -0.01126919 -0.006634552 -0.003545606\n",
              "cogs              -0.4492976910 -0.01126919 -0.006634552 -0.003545606\n",
              "gross.income      -0.4492976910 -0.01126919 -0.006634552 -0.003545606\n",
              "Rating             0.0185733957  0.03242720  0.206750795  0.153331970\n",
              "Total             -0.4492976910 -0.01126919 -0.006634552 -0.003545606\n",
              "Branch_new        -0.0224059247  0.23905198  0.344340355 -0.367175767\n",
              "Customer.type_new  0.0123369779 -0.30489936  0.007610097  0.238871101\n",
              "Gender_new         0.0282299645 -0.56716051 -0.106913649 -0.102587212\n",
              "Product.line_new  -0.0176175070  0.09063284 -0.272133682  0.428348488\n",
              "Payment_new        0.0077692457 -0.29273164 -0.353173328  0.023919065\n",
              "month              0.0139187721  0.02923391 -0.535545483 -0.377189099\n",
              "day                0.0008236914 -0.40908775  0.501175214  0.093225840\n",
              "Invoice.ID_new    -0.0134040544 -0.25792677 -0.143970727  0.385119832\n",
              "Time_new           0.0032641333 -0.34768805 -0.077968176 -0.527931978\n",
              "                           PC5         PC6          PC7          PC8\n",
              "Unit.price         0.298493419 -0.21262819 -0.245548640  0.213216606\n",
              "Quantity          -0.264153304  0.15317502  0.222772219 -0.213374669\n",
              "Tax               -0.005213476 -0.01058789 -0.005856077 -0.004872735\n",
              "cogs              -0.005213476 -0.01058789 -0.005856077 -0.004872735\n",
              "gross.income      -0.005213476 -0.01058789 -0.005856077 -0.004872735\n",
              "Rating            -0.231190766 -0.80315358  0.364745253  0.076128178\n",
              "Total             -0.005213476 -0.01058789 -0.005856077 -0.004872735\n",
              "Branch_new        -0.186369048  0.10529736  0.259119246  0.367077276\n",
              "Customer.type_new -0.571754752 -0.06395311 -0.335266992 -0.028064219\n",
              "Gender_new         0.148999118 -0.21653642 -0.045021820  0.238637494\n",
              "Product.line_new   0.490571776  0.01397449  0.162279074  0.346995396\n",
              "Payment_new        0.066953391 -0.07638260  0.480725917 -0.467814231\n",
              "month             -0.123701107 -0.19096501 -0.380321314  0.026269092\n",
              "day                0.136614435  0.21424462 -0.041692840 -0.331811549\n",
              "Invoice.ID_new    -0.349583013  0.32191083  0.156352298  0.478565206\n",
              "Time_new          -0.049112005  0.17813607  0.383494308  0.177675803\n",
              "                           PC9         PC10         PC11         PC12\n",
              "Unit.price        -0.279261831  0.341651906 -0.083365893 -0.150565557\n",
              "Quantity           0.275389416 -0.313761315  0.069213712  0.131289265\n",
              "Tax                0.003603452 -0.002950782  0.003531858 -0.001628263\n",
              "cogs               0.003603452 -0.002950782  0.003531858 -0.001628263\n",
              "gross.income       0.003603452 -0.002950782  0.003531858 -0.001628263\n",
              "Rating             0.182860735  0.103207957 -0.133812705  0.180840408\n",
              "Total              0.003603452 -0.002950782  0.003531858 -0.001628263\n",
              "Branch_new        -0.504628325 -0.215582532  0.267550684  0.261604013\n",
              "Customer.type_new -0.393186788 -0.358229953 -0.327346679 -0.124329994\n",
              "Gender_new         0.222146656 -0.458071246  0.515059195 -0.055165807\n",
              "Product.line_new  -0.188416502 -0.338940017 -0.343255950  0.279515899\n",
              "Payment_new       -0.518122368  0.162995631  0.181660626 -0.025661483\n",
              "month             -0.025976086  0.153317551 -0.034062205  0.589391155\n",
              "day                0.081262060  0.007667616 -0.089368168  0.617799060\n",
              "Invoice.ID_new     0.090226042  0.473401334  0.188124435  0.130791554\n",
              "Time_new           0.186328189 -0.019634414 -0.575252750 -0.124457697\n",
              "                          PC13          PC14          PC15          PC16\n",
              "Unit.price        -0.601013220  2.804146e-17 -8.208039e-17  1.137592e-16\n",
              "Quantity          -0.668684604  7.570494e-17 -7.413238e-17  2.808371e-16\n",
              "Tax                0.218435032  2.267390e-01 -4.544796e-01  7.014540e-01\n",
              "cogs               0.218435032  4.439748e-02  8.464419e-01  1.776652e-01\n",
              "gross.income       0.218435032  5.389171e-01 -1.868403e-01 -6.516587e-01\n",
              "Rating             0.017562944 -1.940291e-17 -5.371952e-17 -1.454055e-16\n",
              "Total              0.218435032 -8.100535e-01 -2.051220e-01 -2.274605e-01\n",
              "Branch_new        -0.010427395 -5.331324e-17 -4.115358e-17  1.054774e-18\n",
              "Customer.type_new -0.006593026  1.329787e-16  2.345701e-18  1.012675e-17\n",
              "Gender_new         0.002478354 -1.232338e-16  7.850819e-17 -1.122057e-16\n",
              "Product.line_new  -0.002233742  2.698113e-17 -2.459139e-17  5.519087e-17\n",
              "Payment_new       -0.001492030 -3.589595e-18 -2.206921e-17 -2.359955e-17\n",
              "month             -0.006626110 -6.032098e-18 -6.122562e-17 -1.495777e-16\n",
              "day                0.007263639  6.178457e-17  1.650192e-16  5.328947e-17\n",
              "Invoice.ID_new    -0.014031979 -7.633743e-17 -9.614210e-18  5.436420e-17\n",
              "Time_new           0.004580586  1.567810e-17 -2.454763e-17  3.720509e-17"
            ]
          },
          "metadata": {
            "tags": []
          }
        }
      ]
    },
    {
      "cell_type": "markdown",
      "metadata": {
        "id": "NABU3iNQblx3",
        "colab_type": "text"
      },
      "source": [
        "The first component has the highest variance, the second has the second highest variance etc "
      ]
    },
    {
      "cell_type": "code",
      "metadata": {
        "id": "np-eww_4feGk",
        "colab_type": "code",
        "colab": {
          "base_uri": "https://localhost:8080/",
          "height": 238
        },
        "outputId": "2b1b702d-395e-4977-fb55-c96f09ab1a19"
      },
      "source": [
        "summary(df_pca)"
      ],
      "execution_count": 235,
      "outputs": [
        {
          "output_type": "display_data",
          "data": {
            "text/plain": [
              "Importance of components:\n",
              "                          PC1    PC2     PC3    PC4     PC5     PC6     PC7\n",
              "Standard deviation     2.2204 1.0910 1.08035 1.0614 1.02806 0.99955 0.99399\n",
              "Proportion of Variance 0.3081 0.0744 0.07295 0.0704 0.06606 0.06244 0.06175\n",
              "Cumulative Proportion  0.3081 0.3825 0.45549 0.5259 0.59195 0.65440 0.71615\n",
              "                           PC8    PC9    PC10    PC11    PC12   PC13      PC14\n",
              "Standard deviation     0.97829 0.9667 0.94723 0.91947 0.90439 0.2993 1.567e-16\n",
              "Proportion of Variance 0.05982 0.0584 0.05608 0.05284 0.05112 0.0056 0.000e+00\n",
              "Cumulative Proportion  0.77596 0.8344 0.89044 0.94328 0.99440 1.0000 1.000e+00\n",
              "                            PC15      PC16\n",
              "Standard deviation     1.468e-16 6.193e-17\n",
              "Proportion of Variance 0.000e+00 0.000e+00\n",
              "Cumulative Proportion  1.000e+00 1.000e+00"
            ]
          },
          "metadata": {
            "tags": []
          }
        }
      ]
    },
    {
      "cell_type": "markdown",
      "metadata": {
        "id": "EQIGT4AvfnhN",
        "colab_type": "text"
      },
      "source": [
        "The first component(PC1) contributes 30% of the important data "
      ]
    },
    {
      "cell_type": "code",
      "metadata": {
        "id": "JiL3z9C_bzXw",
        "colab_type": "code",
        "colab": {
          "base_uri": "https://localhost:8080/",
          "height": 437
        },
        "outputId": "eb73d1f2-fada-4f76-ba4e-b0a8b262b2df"
      },
      "source": [
        "#plot to check the variances\n",
        "plot(df_pca)\n",
        "#the first bar shows the variance of the first component\n",
        "#it decreases significantly to the second variable \n",
        "#the trend continues"
      ],
      "execution_count": 231,
      "outputs": [
        {
          "output_type": "display_data",
          "data": {
            "image/png": "[encoded data removed]",
            "text/plain": [
              "Plot with title “df_pca”"
            ]
          },
          "metadata": {
            "tags": [],
            "image/png": {
              "width": 420,
              "height": 420
            },
            "text/plain": {
              "width": 420,
              "height": 420
            }
          }
        }
      ]
    },
    {
      "cell_type": "markdown",
      "metadata": {
        "id": "7OElyyWRdIWe",
        "colab_type": "text"
      },
      "source": [
        "Conclusion\n",
        "\n",
        "Where much of the variance is,much of the information is held there\n",
        "\n",
        "PC1 carries 30% of the important information for our analysis"
      ]
    },
    {
      "cell_type": "markdown",
      "metadata": {
        "id": "oRbs8zFVoz5-",
        "colab_type": "text"
      },
      "source": [
        "### Application of t-SNE"
      ]
    },
    {
      "cell_type": "code",
      "metadata": {
        "id": "UMnX-NwnpYyv",
        "colab_type": "code",
        "outputId": "87737b37-3507-4eba-9cfa-3a6d47cc8891",
        "colab": {
          "base_uri": "https://localhost:8080/",
          "height": 68
        }
      },
      "source": [
        "#install packages\n",
        "install.packages(\"Rtsne\")\n",
        "# Loading our tnse library\n",
        "library(Rtsne)"
      ],
      "execution_count": 182,
      "outputs": [
        {
          "output_type": "stream",
          "text": [
            "Installing package into ‘/usr/local/lib/R/site-library’\n",
            "(as ‘lib’ is unspecified)\n",
            "\n"
          ],
          "name": "stderr"
        }
      ]
    },
    {
      "cell_type": "markdown",
      "metadata": {
        "id": "tet_jQoeohAt",
        "colab_type": "text"
      },
      "source": [
        "# Association Rules"
      ]
    },
    {
      "cell_type": "markdown",
      "metadata": {
        "id": "VsVwlPv8q-QB",
        "colab_type": "text"
      },
      "source": [
        "## Upload and read the data"
      ]
    },
    {
      "cell_type": "code",
      "metadata": {
        "id": "0BXSb9zpU7Ve",
        "colab_type": "code",
        "outputId": "26bcb092-b624-49fd-c633-e2ca77ba83ec",
        "colab": {
          "base_uri": "https://localhost:8080/",
          "height": 292
        }
      },
      "source": [
        "#upload the data\n",
        "dff = read.csv(\"Supermarket_Sales_Dataset II.csv\")\n",
        "#read\n",
        "head(dff)"
      ],
      "execution_count": 183,
      "outputs": [
        {
          "output_type": "display_data",
          "data": {
            "text/plain": [
              "  shrimp            almonds      avocado    vegetables.mix   green.grapes\n",
              "1 burgers           meatballs    eggs                                    \n",
              "2 chutney                                                                \n",
              "3 turkey            avocado                                              \n",
              "4 mineral water     milk         energy bar whole wheat rice green tea   \n",
              "5 low fat yogurt                                                         \n",
              "6 whole wheat pasta french fries                                         \n",
              "  whole.weat.flour yams cottage.cheese energy.drink tomato.juice low.fat.yogurt\n",
              "1                                                                              \n",
              "2                                                                              \n",
              "3                                                                              \n",
              "4                                                                              \n",
              "5                                                                              \n",
              "6                                                                              \n",
              "  green.tea honey salad mineral.water salmon antioxydant.juice frozen.smoothie\n",
              "1                                                                             \n",
              "2                                                                             \n",
              "3                                                                             \n",
              "4                                                                             \n",
              "5                                                                             \n",
              "6                                                                             \n",
              "  spinach olive.oil\n",
              "1         NA       \n",
              "2         NA       \n",
              "3         NA       \n",
              "4         NA       \n",
              "5         NA       \n",
              "6         NA       "
            ],
            "text/latex": "A data.frame: 6 × 20\n\\begin{tabular}{r|llllllllllllllllllll}\n  & shrimp & almonds & avocado & vegetables.mix & green.grapes & whole.weat.flour & yams & cottage.cheese & energy.drink & tomato.juice & low.fat.yogurt & green.tea & honey & salad & mineral.water & salmon & antioxydant.juice & frozen.smoothie & spinach & olive.oil\\\\\n  & <fct> & <fct> & <fct> & <fct> & <fct> & <fct> & <fct> & <fct> & <fct> & <fct> & <fct> & <fct> & <fct> & <fct> & <fct> & <fct> & <fct> & <fct> & <fct> & <lgl>\\\\\n\\hline\n\t1 & burgers           & meatballs    & eggs       &                  &           &  &  &  &  &  &  &  &  &  &  &  &  &  &  & NA\\\\\n\t2 & chutney           &              &            &                  &           &  &  &  &  &  &  &  &  &  &  &  &  &  &  & NA\\\\\n\t3 & turkey            & avocado      &            &                  &           &  &  &  &  &  &  &  &  &  &  &  &  &  &  & NA\\\\\n\t4 & mineral water     & milk         & energy bar & whole wheat rice & green tea &  &  &  &  &  &  &  &  &  &  &  &  &  &  & NA\\\\\n\t5 & low fat yogurt    &              &            &                  &           &  &  &  &  &  &  &  &  &  &  &  &  &  &  & NA\\\\\n\t6 & whole wheat pasta & french fries &            &                  &           &  &  &  &  &  &  &  &  &  &  &  &  &  &  & NA\\\\\n\\end{tabular}\n",
            "text/markdown": "\nA data.frame: 6 × 20\n\n| <!--/--> | shrimp &lt;fct&gt; | almonds &lt;fct&gt; | avocado &lt;fct&gt; | vegetables.mix &lt;fct&gt; | green.grapes &lt;fct&gt; | whole.weat.flour &lt;fct&gt; | yams &lt;fct&gt; | cottage.cheese &lt;fct&gt; | energy.drink &lt;fct&gt; | tomato.juice &lt;fct&gt; | low.fat.yogurt &lt;fct&gt; | green.tea &lt;fct&gt; | honey &lt;fct&gt; | salad &lt;fct&gt; | mineral.water &lt;fct&gt; | salmon &lt;fct&gt; | antioxydant.juice &lt;fct&gt; | frozen.smoothie &lt;fct&gt; | spinach &lt;fct&gt; | olive.oil &lt;lgl&gt; |\n|---|---|---|---|---|---|---|---|---|---|---|---|---|---|---|---|---|---|---|---|---|\n| 1 | burgers           | meatballs    | eggs       | <!----> | <!----> | <!----> | <!----> | <!----> | <!----> | <!----> | <!----> | <!----> | <!----> | <!----> | <!----> | <!----> | <!----> | <!----> | <!----> | NA |\n| 2 | chutney           | <!----> | <!----> | <!----> | <!----> | <!----> | <!----> | <!----> | <!----> | <!----> | <!----> | <!----> | <!----> | <!----> | <!----> | <!----> | <!----> | <!----> | <!----> | NA |\n| 3 | turkey            | avocado      | <!----> | <!----> | <!----> | <!----> | <!----> | <!----> | <!----> | <!----> | <!----> | <!----> | <!----> | <!----> | <!----> | <!----> | <!----> | <!----> | <!----> | NA |\n| 4 | mineral water     | milk         | energy bar | whole wheat rice | green tea | <!----> | <!----> | <!----> | <!----> | <!----> | <!----> | <!----> | <!----> | <!----> | <!----> | <!----> | <!----> | <!----> | <!----> | NA |\n| 5 | low fat yogurt    | <!----> | <!----> | <!----> | <!----> | <!----> | <!----> | <!----> | <!----> | <!----> | <!----> | <!----> | <!----> | <!----> | <!----> | <!----> | <!----> | <!----> | <!----> | NA |\n| 6 | whole wheat pasta | french fries | <!----> | <!----> | <!----> | <!----> | <!----> | <!----> | <!----> | <!----> | <!----> | <!----> | <!----> | <!----> | <!----> | <!----> | <!----> | <!----> | <!----> | NA |\n\n",
            "text/html": [
              "<table>\n",
              "<caption>A data.frame: 6 × 20</caption>\n",
              "<thead>\n",
              "\t<tr><th></th><th scope=col>shrimp</th><th scope=col>almonds</th><th scope=col>avocado</th><th scope=col>vegetables.mix</th><th scope=col>green.grapes</th><th scope=col>whole.weat.flour</th><th scope=col>yams</th><th scope=col>cottage.cheese</th><th scope=col>energy.drink</th><th scope=col>tomato.juice</th><th scope=col>low.fat.yogurt</th><th scope=col>green.tea</th><th scope=col>honey</th><th scope=col>salad</th><th scope=col>mineral.water</th><th scope=col>salmon</th><th scope=col>antioxydant.juice</th><th scope=col>frozen.smoothie</th><th scope=col>spinach</th><th scope=col>olive.oil</th></tr>\n",
              "\t<tr><th></th><th scope=col>&lt;fct&gt;</th><th scope=col>&lt;fct&gt;</th><th scope=col>&lt;fct&gt;</th><th scope=col>&lt;fct&gt;</th><th scope=col>&lt;fct&gt;</th><th scope=col>&lt;fct&gt;</th><th scope=col>&lt;fct&gt;</th><th scope=col>&lt;fct&gt;</th><th scope=col>&lt;fct&gt;</th><th scope=col>&lt;fct&gt;</th><th scope=col>&lt;fct&gt;</th><th scope=col>&lt;fct&gt;</th><th scope=col>&lt;fct&gt;</th><th scope=col>&lt;fct&gt;</th><th scope=col>&lt;fct&gt;</th><th scope=col>&lt;fct&gt;</th><th scope=col>&lt;fct&gt;</th><th scope=col>&lt;fct&gt;</th><th scope=col>&lt;fct&gt;</th><th scope=col>&lt;lgl&gt;</th></tr>\n",
              "</thead>\n",
              "<tbody>\n",
              "\t<tr><th scope=row>1</th><td>burgers          </td><td>meatballs   </td><td>eggs      </td><td>                </td><td>         </td><td></td><td></td><td></td><td></td><td></td><td></td><td></td><td></td><td></td><td></td><td></td><td></td><td></td><td></td><td>NA</td></tr>\n",
              "\t<tr><th scope=row>2</th><td>chutney          </td><td>            </td><td>          </td><td>                </td><td>         </td><td></td><td></td><td></td><td></td><td></td><td></td><td></td><td></td><td></td><td></td><td></td><td></td><td></td><td></td><td>NA</td></tr>\n",
              "\t<tr><th scope=row>3</th><td>turkey           </td><td>avocado     </td><td>          </td><td>                </td><td>         </td><td></td><td></td><td></td><td></td><td></td><td></td><td></td><td></td><td></td><td></td><td></td><td></td><td></td><td></td><td>NA</td></tr>\n",
              "\t<tr><th scope=row>4</th><td>mineral water    </td><td>milk        </td><td>energy bar</td><td>whole wheat rice</td><td>green tea</td><td></td><td></td><td></td><td></td><td></td><td></td><td></td><td></td><td></td><td></td><td></td><td></td><td></td><td></td><td>NA</td></tr>\n",
              "\t<tr><th scope=row>5</th><td>low fat yogurt   </td><td>            </td><td>          </td><td>                </td><td>         </td><td></td><td></td><td></td><td></td><td></td><td></td><td></td><td></td><td></td><td></td><td></td><td></td><td></td><td></td><td>NA</td></tr>\n",
              "\t<tr><th scope=row>6</th><td>whole wheat pasta</td><td>french fries</td><td>          </td><td>                </td><td>         </td><td></td><td></td><td></td><td></td><td></td><td></td><td></td><td></td><td></td><td></td><td></td><td></td><td></td><td></td><td>NA</td></tr>\n",
              "</tbody>\n",
              "</table>\n"
            ]
          },
          "metadata": {
            "tags": []
          }
        }
      ]
    },
    {
      "cell_type": "markdown",
      "metadata": {
        "id": "uIPCpMYVrDDc",
        "colab_type": "text"
      },
      "source": [
        "Data Understanding"
      ]
    },
    {
      "cell_type": "code",
      "metadata": {
        "id": "taBZ15hLrGM2",
        "colab_type": "code",
        "outputId": "bbfe26bb-02f8-4803-ade9-d210c546b36c",
        "colab": {
          "base_uri": "https://localhost:8080/",
          "height": 374
        }
      },
      "source": [
        "#check for the data types and number of rows and columns\n",
        "str(dff)\n",
        "# All the variables are factors except the column \"olive.oil\""
      ],
      "execution_count": 184,
      "outputs": [
        {
          "output_type": "stream",
          "text": [
            "'data.frame':\t7500 obs. of  20 variables:\n",
            " $ shrimp           : Factor w/ 115 levels \"almonds\",\"antioxydant juice\",..: 15 27 108 72 65 112 98 49 43 37 ...\n",
            " $ almonds          : Factor w/ 118 levels \"\",\"almonds\",\"antioxydant juice\",..: 69 1 5 71 1 43 63 99 1 85 ...\n",
            " $ avocado          : Factor w/ 116 levels \"\",\"almonds\",\"antioxydant juice\",..: 36 1 1 37 1 1 93 53 1 1 ...\n",
            " $ vegetables.mix   : Factor w/ 115 levels \"\",\"almonds\",\"antioxydant juice\",..: 1 1 1 112 1 1 1 1 1 1 ...\n",
            " $ green.grapes     : Factor w/ 111 levels \"\",\"almonds\",\"antioxydant juice\",..: 1 1 1 51 1 1 1 1 1 1 ...\n",
            " $ whole.weat.flour : Factor w/ 107 levels \"\",\"almonds\",\"antioxydant juice\",..: 1 1 1 1 1 1 1 1 1 1 ...\n",
            " $ yams             : Factor w/ 103 levels \"\",\"almonds\",\"antioxydant juice\",..: 1 1 1 1 1 1 1 1 1 1 ...\n",
            " $ cottage.cheese   : Factor w/ 99 levels \"\",\" asparagus\",..: 1 1 1 1 1 1 1 1 1 1 ...\n",
            " $ energy.drink     : Factor w/ 89 levels \"\",\"almonds\",\"antioxydant juice\",..: 1 1 1 1 1 1 1 1 1 1 ...\n",
            " $ tomato.juice     : Factor w/ 81 levels \"\",\"asparagus\",..: 1 1 1 1 1 1 1 1 1 1 ...\n",
            " $ low.fat.yogurt   : Factor w/ 67 levels \"\",\"asparagus\",..: 1 1 1 1 1 1 1 1 1 1 ...\n",
            " $ green.tea        : Factor w/ 51 levels \"\",\"blueberries\",..: 1 1 1 1 1 1 1 1 1 1 ...\n",
            " $ honey            : Factor w/ 43 levels \"\",\"asparagus\",..: 1 1 1 1 1 1 1 1 1 1 ...\n",
            " $ salad            : Factor w/ 29 levels \"\",\"babies food\",..: 1 1 1 1 1 1 1 1 1 1 ...\n",
            " $ mineral.water    : Factor w/ 19 levels \"\",\"candy bars\",..: 1 1 1 1 1 1 1 1 1 1 ...\n",
            " $ salmon           : Factor w/ 8 levels \"\",\"antioxydant juice\",..: 1 1 1 1 1 1 1 1 1 1 ...\n",
            " $ antioxydant.juice: Factor w/ 3 levels \"\",\"french fries\",..: 1 1 1 1 1 1 1 1 1 1 ...\n",
            " $ frozen.smoothie  : Factor w/ 3 levels \"\",\"protein bar\",..: 1 1 1 1 1 1 1 1 1 1 ...\n",
            " $ spinach          : Factor w/ 3 levels \"\",\"cereals\",\"mayonnaise\": 1 1 1 1 1 1 1 1 1 1 ...\n",
            " $ olive.oil        : logi  NA NA NA NA NA NA ...\n"
          ],
          "name": "stdout"
        }
      ]
    },
    {
      "cell_type": "code",
      "metadata": {
        "id": "IDXIMAjirb-L",
        "colab_type": "code",
        "outputId": "3a3624e5-a895-4779-88b3-75de94d1a82e",
        "colab": {
          "base_uri": "https://localhost:8080/",
          "height": 725
        }
      },
      "source": [
        "#Sum of unique values per column\n",
        "lapply(dff, function(x) length(table(x)))"
      ],
      "execution_count": 185,
      "outputs": [
        {
          "output_type": "display_data",
          "data": {
            "text/plain": [
              "$shrimp\n",
              "[1] 115\n",
              "\n",
              "$almonds\n",
              "[1] 118\n",
              "\n",
              "$avocado\n",
              "[1] 116\n",
              "\n",
              "$vegetables.mix\n",
              "[1] 115\n",
              "\n",
              "$green.grapes\n",
              "[1] 111\n",
              "\n",
              "$whole.weat.flour\n",
              "[1] 107\n",
              "\n",
              "$yams\n",
              "[1] 103\n",
              "\n",
              "$cottage.cheese\n",
              "[1] 99\n",
              "\n",
              "$energy.drink\n",
              "[1] 89\n",
              "\n",
              "$tomato.juice\n",
              "[1] 81\n",
              "\n",
              "$low.fat.yogurt\n",
              "[1] 67\n",
              "\n",
              "$green.tea\n",
              "[1] 51\n",
              "\n",
              "$honey\n",
              "[1] 43\n",
              "\n",
              "$salad\n",
              "[1] 29\n",
              "\n",
              "$mineral.water\n",
              "[1] 19\n",
              "\n",
              "$salmon\n",
              "[1] 8\n",
              "\n",
              "$antioxydant.juice\n",
              "[1] 3\n",
              "\n",
              "$frozen.smoothie\n",
              "[1] 3\n",
              "\n",
              "$spinach\n",
              "[1] 3\n",
              "\n",
              "$olive.oil\n",
              "[1] 0\n"
            ],
            "text/latex": "\\begin{description}\n\\item[\\$shrimp] 115\n\\item[\\$almonds] 118\n\\item[\\$avocado] 116\n\\item[\\$vegetables.mix] 115\n\\item[\\$green.grapes] 111\n\\item[\\$whole.weat.flour] 107\n\\item[\\$yams] 103\n\\item[\\$cottage.cheese] 99\n\\item[\\$energy.drink] 89\n\\item[\\$tomato.juice] 81\n\\item[\\$low.fat.yogurt] 67\n\\item[\\$green.tea] 51\n\\item[\\$honey] 43\n\\item[\\$salad] 29\n\\item[\\$mineral.water] 19\n\\item[\\$salmon] 8\n\\item[\\$antioxydant.juice] 3\n\\item[\\$frozen.smoothie] 3\n\\item[\\$spinach] 3\n\\item[\\$olive.oil] 0\n\\end{description}\n",
            "text/markdown": "$shrimp\n:   115\n$almonds\n:   118\n$avocado\n:   116\n$vegetables.mix\n:   115\n$green.grapes\n:   111\n$whole.weat.flour\n:   107\n$yams\n:   103\n$cottage.cheese\n:   99\n$energy.drink\n:   89\n$tomato.juice\n:   81\n$low.fat.yogurt\n:   67\n$green.tea\n:   51\n$honey\n:   43\n$salad\n:   29\n$mineral.water\n:   19\n$salmon\n:   8\n$antioxydant.juice\n:   3\n$frozen.smoothie\n:   3\n$spinach\n:   3\n$olive.oil\n:   0\n\n\n",
            "text/html": [
              "<dl>\n",
              "\t<dt>$shrimp</dt>\n",
              "\t\t<dd>115</dd>\n",
              "\t<dt>$almonds</dt>\n",
              "\t\t<dd>118</dd>\n",
              "\t<dt>$avocado</dt>\n",
              "\t\t<dd>116</dd>\n",
              "\t<dt>$vegetables.mix</dt>\n",
              "\t\t<dd>115</dd>\n",
              "\t<dt>$green.grapes</dt>\n",
              "\t\t<dd>111</dd>\n",
              "\t<dt>$whole.weat.flour</dt>\n",
              "\t\t<dd>107</dd>\n",
              "\t<dt>$yams</dt>\n",
              "\t\t<dd>103</dd>\n",
              "\t<dt>$cottage.cheese</dt>\n",
              "\t\t<dd>99</dd>\n",
              "\t<dt>$energy.drink</dt>\n",
              "\t\t<dd>89</dd>\n",
              "\t<dt>$tomato.juice</dt>\n",
              "\t\t<dd>81</dd>\n",
              "\t<dt>$low.fat.yogurt</dt>\n",
              "\t\t<dd>67</dd>\n",
              "\t<dt>$green.tea</dt>\n",
              "\t\t<dd>51</dd>\n",
              "\t<dt>$honey</dt>\n",
              "\t\t<dd>43</dd>\n",
              "\t<dt>$salad</dt>\n",
              "\t\t<dd>29</dd>\n",
              "\t<dt>$mineral.water</dt>\n",
              "\t\t<dd>19</dd>\n",
              "\t<dt>$salmon</dt>\n",
              "\t\t<dd>8</dd>\n",
              "\t<dt>$antioxydant.juice</dt>\n",
              "\t\t<dd>3</dd>\n",
              "\t<dt>$frozen.smoothie</dt>\n",
              "\t\t<dd>3</dd>\n",
              "\t<dt>$spinach</dt>\n",
              "\t\t<dd>3</dd>\n",
              "\t<dt>$olive.oil</dt>\n",
              "\t\t<dd>0</dd>\n",
              "</dl>\n"
            ]
          },
          "metadata": {
            "tags": []
          }
        }
      ]
    },
    {
      "cell_type": "markdown",
      "metadata": {
        "id": "MOAjponioq-C",
        "colab_type": "text"
      },
      "source": [
        "# Anomally Detection"
      ]
    },
    {
      "cell_type": "code",
      "metadata": {
        "id": "-c7bRBj6XOkJ",
        "colab_type": "code",
        "outputId": "3da82309-a936-4a77-d5da-3bcd6c21c41e",
        "colab": {
          "base_uri": "https://localhost:8080/",
          "height": 204
        }
      },
      "source": [
        "#upload the data\n",
        "dfff = read.csv(\"Supermarket_Sales_Forecasting - Sales.csv\")\n",
        "head(dfff)"
      ],
      "execution_count": 186,
      "outputs": [
        {
          "output_type": "display_data",
          "data": {
            "text/plain": [
              "  Date      Sales   \n",
              "1 1/5/2019  548.9715\n",
              "2 3/8/2019   80.2200\n",
              "3 3/3/2019  340.5255\n",
              "4 1/27/2019 489.0480\n",
              "5 2/8/2019  634.3785\n",
              "6 3/25/2019 627.6165"
            ],
            "text/latex": "A data.frame: 6 × 2\n\\begin{tabular}{r|ll}\n  & Date & Sales\\\\\n  & <fct> & <dbl>\\\\\n\\hline\n\t1 & 1/5/2019  & 548.9715\\\\\n\t2 & 3/8/2019  &  80.2200\\\\\n\t3 & 3/3/2019  & 340.5255\\\\\n\t4 & 1/27/2019 & 489.0480\\\\\n\t5 & 2/8/2019  & 634.3785\\\\\n\t6 & 3/25/2019 & 627.6165\\\\\n\\end{tabular}\n",
            "text/markdown": "\nA data.frame: 6 × 2\n\n| <!--/--> | Date &lt;fct&gt; | Sales &lt;dbl&gt; |\n|---|---|---|\n| 1 | 1/5/2019  | 548.9715 |\n| 2 | 3/8/2019  |  80.2200 |\n| 3 | 3/3/2019  | 340.5255 |\n| 4 | 1/27/2019 | 489.0480 |\n| 5 | 2/8/2019  | 634.3785 |\n| 6 | 3/25/2019 | 627.6165 |\n\n",
            "text/html": [
              "<table>\n",
              "<caption>A data.frame: 6 × 2</caption>\n",
              "<thead>\n",
              "\t<tr><th></th><th scope=col>Date</th><th scope=col>Sales</th></tr>\n",
              "\t<tr><th></th><th scope=col>&lt;fct&gt;</th><th scope=col>&lt;dbl&gt;</th></tr>\n",
              "</thead>\n",
              "<tbody>\n",
              "\t<tr><th scope=row>1</th><td>1/5/2019 </td><td>548.9715</td></tr>\n",
              "\t<tr><th scope=row>2</th><td>3/8/2019 </td><td> 80.2200</td></tr>\n",
              "\t<tr><th scope=row>3</th><td>3/3/2019 </td><td>340.5255</td></tr>\n",
              "\t<tr><th scope=row>4</th><td>1/27/2019</td><td>489.0480</td></tr>\n",
              "\t<tr><th scope=row>5</th><td>2/8/2019 </td><td>634.3785</td></tr>\n",
              "\t<tr><th scope=row>6</th><td>3/25/2019</td><td>627.6165</td></tr>\n",
              "</tbody>\n",
              "</table>\n"
            ]
          },
          "metadata": {
            "tags": []
          }
        }
      ]
    }
  ]
}